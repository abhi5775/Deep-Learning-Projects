{
 "cells": [
  {
   "cell_type": "code",
   "execution_count": 1,
   "metadata": {
    "ExecuteTime": {
     "end_time": "2020-10-14T09:38:13.240530Z",
     "start_time": "2020-10-14T09:37:48.177441Z"
    }
   },
   "outputs": [],
   "source": [
    "import re\n",
    "import gzip\n",
    "import json\n",
    "import time\n",
    "import spacy\n",
    "import numpy as np\n",
    "import pandas as pd\n",
    "import matplotlib.pyplot as plt\n",
    "import warnings\n",
    "warnings.filterwarnings('ignore')\n",
    "\n",
    "from termcolor import colored\n",
    "\n",
    "\n",
    "\n",
    "\n",
    "pd.set_option('display.max_rows', None)\n",
    "pd.set_option('display.max_columns', None)\n",
    "pd.set_option('display.width', None)\n",
    "pd.set_option('display.max_colwidth', -1)"
   ]
  },
  {
   "cell_type": "code",
   "execution_count": 2,
   "metadata": {
    "ExecuteTime": {
     "end_time": "2020-10-14T04:50:48.637546Z",
     "start_time": "2020-10-14T04:48:22.910826Z"
    }
   },
   "outputs": [
    {
     "name": "stdout",
     "output_type": "stream",
     "text": [
      "Collecting spacy\n",
      "  Downloading spacy-2.3.2-cp37-cp37m-win_amd64.whl (9.3 MB)\n",
      "Collecting wasabi<1.1.0,>=0.4.0\n",
      "  Downloading wasabi-0.8.0-py3-none-any.whl (23 kB)\n",
      "Requirement already satisfied: requests<3.0.0,>=2.13.0 in c:\\users\\colourfulm\\anaconda3\\lib\\site-packages (from spacy) (2.22.0)\n",
      "Collecting cymem<2.1.0,>=2.0.2\n",
      "  Downloading cymem-2.0.3-cp37-cp37m-win_amd64.whl (32 kB)\n",
      "Collecting preshed<3.1.0,>=3.0.2\n",
      "  Downloading preshed-3.0.2-cp37-cp37m-win_amd64.whl (105 kB)\n",
      "Collecting srsly<1.1.0,>=1.0.2\n",
      "  Downloading srsly-1.0.2-cp37-cp37m-win_amd64.whl (179 kB)\n",
      "Requirement already satisfied: numpy>=1.15.0 in c:\\users\\colourfulm\\anaconda3\\lib\\site-packages (from spacy) (1.18.1)\n",
      "Collecting catalogue<1.1.0,>=0.0.7\n",
      "  Downloading catalogue-1.0.0-py2.py3-none-any.whl (7.7 kB)\n",
      "Collecting thinc==7.4.1\n",
      "  Downloading thinc-7.4.1-cp37-cp37m-win_amd64.whl (2.0 MB)\n",
      "Collecting murmurhash<1.1.0,>=0.28.0\n",
      "  Downloading murmurhash-1.0.2-cp37-cp37m-win_amd64.whl (20 kB)\n",
      "Collecting blis<0.5.0,>=0.4.0\n",
      "  Downloading blis-0.4.1-cp37-cp37m-win_amd64.whl (5.0 MB)\n",
      "Requirement already satisfied: tqdm<5.0.0,>=4.38.0 in c:\\users\\colourfulm\\anaconda3\\lib\\site-packages (from spacy) (4.42.1)\n",
      "Collecting plac<1.2.0,>=0.9.6\n",
      "  Downloading plac-1.1.3-py2.py3-none-any.whl (20 kB)\n",
      "Requirement already satisfied: setuptools in c:\\users\\colourfulm\\anaconda3\\lib\\site-packages (from spacy) (45.2.0.post20200210)\n",
      "Requirement already satisfied: urllib3!=1.25.0,!=1.25.1,<1.26,>=1.21.1 in c:\\users\\colourfulm\\anaconda3\\lib\\site-packages (from requests<3.0.0,>=2.13.0->spacy) (1.25.8)\n",
      "Requirement already satisfied: chardet<3.1.0,>=3.0.2 in c:\\users\\colourfulm\\anaconda3\\lib\\site-packages (from requests<3.0.0,>=2.13.0->spacy) (3.0.4)\n",
      "Requirement already satisfied: certifi>=2017.4.17 in c:\\users\\colourfulm\\anaconda3\\lib\\site-packages (from requests<3.0.0,>=2.13.0->spacy) (2019.11.28)\n",
      "Requirement already satisfied: idna<2.9,>=2.5 in c:\\users\\colourfulm\\anaconda3\\lib\\site-packages (from requests<3.0.0,>=2.13.0->spacy) (2.8)\n",
      "Requirement already satisfied: importlib-metadata>=0.20; python_version < \"3.8\" in c:\\users\\colourfulm\\anaconda3\\lib\\site-packages (from catalogue<1.1.0,>=0.0.7->spacy) (1.5.0)\n",
      "Requirement already satisfied: zipp>=0.5 in c:\\users\\colourfulm\\anaconda3\\lib\\site-packages (from importlib-metadata>=0.20; python_version < \"3.8\"->catalogue<1.1.0,>=0.0.7->spacy) (2.2.0)\n",
      "Installing collected packages: wasabi, cymem, murmurhash, preshed, srsly, catalogue, blis, plac, thinc, spacy\n",
      "Successfully installed blis-0.4.1 catalogue-1.0.0 cymem-2.0.3 murmurhash-1.0.2 plac-1.1.3 preshed-3.0.2 spacy-2.3.2 srsly-1.0.2 thinc-7.4.1 wasabi-0.8.0\n"
     ]
    }
   ],
   "source": [
    "# !pip install spacy"
   ]
  },
  {
   "cell_type": "code",
   "execution_count": 2,
   "metadata": {
    "ExecuteTime": {
     "end_time": "2020-10-14T09:39:37.399447Z",
     "start_time": "2020-10-14T09:38:47.002908Z"
    }
   },
   "outputs": [],
   "source": [
    "def parse(path):\n",
    "  g = gzip.open(path, 'rb')\n",
    "  for l in g:\n",
    "    yield json.loads(l)\n",
    "\n",
    "def getDF(path):\n",
    "  i = 0\n",
    "  df = {}\n",
    "  for d in parse(path):\n",
    "    df[i] = d\n",
    "    i += 1\n",
    "  return pd.DataFrame.from_dict(df, orient='index')\n",
    "\n",
    "\n",
    "grocery_df=getDF(\"F:/abhi/deep learning/materials/reviews data/reviews_Grocery_and_Gourmet_Food_5.json.gz\")\n",
    "office_df=getDF(\"F:/abhi/deep learning/materials/reviews data/reviews_Office_Products_5.json.gz\")\n",
    "beauty_df=getDF(\"F:/abhi/deep learning/materials/reviews data/reviews_Beauty_5.json.gz\")\n",
    "toy_df=getDF(\"F:/abhi/deep learning/materials/reviews data/reviews_Toys_and_Games_5.json.gz\")\n",
    "pet_df=getDF(\"F:/abhi/deep learning/materials/reviews data/reviews_Pet_Supplies_5.json.gz\")"
   ]
  },
  {
   "cell_type": "code",
   "execution_count": 3,
   "metadata": {
    "ExecuteTime": {
     "end_time": "2020-10-14T09:39:37.819980Z",
     "start_time": "2020-10-14T09:39:37.399447Z"
    }
   },
   "outputs": [
    {
     "data": {
      "text/html": [
       "<div>\n",
       "<style scoped>\n",
       "    .dataframe tbody tr th:only-of-type {\n",
       "        vertical-align: middle;\n",
       "    }\n",
       "\n",
       "    .dataframe tbody tr th {\n",
       "        vertical-align: top;\n",
       "    }\n",
       "\n",
       "    .dataframe thead th {\n",
       "        text-align: right;\n",
       "    }\n",
       "</style>\n",
       "<table border=\"1\" class=\"dataframe\">\n",
       "  <thead>\n",
       "    <tr style=\"text-align: right;\">\n",
       "      <th></th>\n",
       "      <th>reviewerID</th>\n",
       "      <th>asin</th>\n",
       "      <th>reviewerName</th>\n",
       "      <th>helpful</th>\n",
       "      <th>reviewText</th>\n",
       "      <th>overall</th>\n",
       "      <th>summary</th>\n",
       "      <th>unixReviewTime</th>\n",
       "      <th>reviewTime</th>\n",
       "    </tr>\n",
       "  </thead>\n",
       "  <tbody>\n",
       "    <tr>\n",
       "      <th>0</th>\n",
       "      <td>A1VEELTKS8NLZB</td>\n",
       "      <td>616719923X</td>\n",
       "      <td>Amazon Customer</td>\n",
       "      <td>[0, 0]</td>\n",
       "      <td>Just another flavor of Kit Kat but the taste is unique and a bit different.  The only thing that is bothersome is the price.  I thought it was a bit expensive....</td>\n",
       "      <td>4.0</td>\n",
       "      <td>Good Taste</td>\n",
       "      <td>1370044800</td>\n",
       "      <td>06 1, 2013</td>\n",
       "    </tr>\n",
       "    <tr>\n",
       "      <th>1</th>\n",
       "      <td>A14R9XMZVJ6INB</td>\n",
       "      <td>616719923X</td>\n",
       "      <td>amf0001</td>\n",
       "      <td>[0, 1]</td>\n",
       "      <td>I bought this on impulse and it comes from Japan,  which amused my family,  all those weird stamps and markings on the package. So that was fun.  It said it would take about a month to arrive and it did take that long.  I was hoping for a more interesting taste but to our family,  it just tasted a bit less flavorful or weaker than the standard milk chocolate kit kat.  The green tea flavor was too subtle for the sugar and it just tasted sweet. The wafers were very crispy, and that was good,  but it tasted a bit anemic to us.I'm happy I bought it, but don't need to buy it again.</td>\n",
       "      <td>3.0</td>\n",
       "      <td>3.5 stars,  sadly not as wonderful as I had hoped</td>\n",
       "      <td>1400457600</td>\n",
       "      <td>05 19, 2014</td>\n",
       "    </tr>\n",
       "  </tbody>\n",
       "</table>\n",
       "</div>"
      ],
      "text/plain": [
       "       reviewerID        asin     reviewerName helpful  \\\n",
       "0  A1VEELTKS8NLZB  616719923X  Amazon Customer  [0, 0]   \n",
       "1  A14R9XMZVJ6INB  616719923X  amf0001          [0, 1]   \n",
       "\n",
       "                                                                                                                                                                                                                                                                                                                                                                                                                                                                                                                                                                                                reviewText  \\\n",
       "0  Just another flavor of Kit Kat but the taste is unique and a bit different.  The only thing that is bothersome is the price.  I thought it was a bit expensive....                                                                                                                                                                                                                                                                                                                                                                                                                                        \n",
       "1  I bought this on impulse and it comes from Japan,  which amused my family,  all those weird stamps and markings on the package. So that was fun.  It said it would take about a month to arrive and it did take that long.  I was hoping for a more interesting taste but to our family,  it just tasted a bit less flavorful or weaker than the standard milk chocolate kit kat.  The green tea flavor was too subtle for the sugar and it just tasted sweet. The wafers were very crispy, and that was good,  but it tasted a bit anemic to us.I'm happy I bought it, but don't need to buy it again.   \n",
       "\n",
       "   overall                                            summary  unixReviewTime  \\\n",
       "0  4.0      Good Taste                                         1370044800       \n",
       "1  3.0      3.5 stars,  sadly not as wonderful as I had hoped  1400457600       \n",
       "\n",
       "    reviewTime  \n",
       "0  06 1, 2013   \n",
       "1  05 19, 2014  "
      ]
     },
     "execution_count": 3,
     "metadata": {},
     "output_type": "execute_result"
    }
   ],
   "source": [
    "grocery_df.head(2)"
   ]
  },
  {
   "cell_type": "code",
   "execution_count": 4,
   "metadata": {
    "ExecuteTime": {
     "end_time": "2020-10-14T09:41:46.830255Z",
     "start_time": "2020-10-14T09:41:46.092210Z"
    }
   },
   "outputs": [],
   "source": [
    "grocery_df=grocery_df[[\"reviewText\",\"overall\"]]\n",
    "grocery_df[\"category\"]=\"food\"\n",
    "# print(grocery_df.head(1))\n",
    "\n",
    "office_df=office_df[[\"reviewText\",\"overall\"]]\n",
    "office_df[\"category\"]=\"office\"\n",
    "\n",
    "# print(office_df.head(1))\n",
    "\n",
    "beauty_df=beauty_df[[\"reviewText\",\"overall\"]]\n",
    "beauty_df[\"category\"]=\"beauty\"\n",
    "\n",
    "# print(beauty_df.head(1))\n",
    "\n",
    "toy_df=toy_df[[\"reviewText\",\"overall\"]]\n",
    "toy_df[\"category\"]=\"games\"\n",
    "# print(toy_df.head(1))\n",
    "\n",
    "\n",
    "pet_df=pet_df[[\"reviewText\",\"overall\"]]\n",
    "pet_df[\"category\"]=\"petsupplies\"\n",
    "# # print(pet_df.head(1))"
   ]
  },
  {
   "cell_type": "code",
   "execution_count": 5,
   "metadata": {
    "ExecuteTime": {
     "end_time": "2020-10-11T04:45:04.045947Z",
     "start_time": "2020-10-11T04:45:04.040725Z"
    }
   },
   "outputs": [
    {
     "data": {
      "text/plain": [
       "reviewText    Just another flavor of Kit Kat but the taste is unique and a bit different.  The only thing that is bothersome is the price.  I thought it was a bit expensive....\n",
       "overall       4                                                                                                                                                                 \n",
       "category      food                                                                                                                                                              \n",
       "Name: 0, dtype: object"
      ]
     },
     "execution_count": 5,
     "metadata": {},
     "output_type": "execute_result"
    }
   ],
   "source": [
    "grocery_df.iloc[0]"
   ]
  },
  {
   "cell_type": "code",
   "execution_count": 6,
   "metadata": {
    "ExecuteTime": {
     "end_time": "2020-10-11T04:45:04.190710Z",
     "start_time": "2020-10-11T04:45:04.048455Z"
    }
   },
   "outputs": [],
   "source": [
    "data=pd.concat([grocery_df,office_df,beauty_df,toy_df,pet_df])"
   ]
  },
  {
   "cell_type": "code",
   "execution_count": 7,
   "metadata": {
    "ExecuteTime": {
     "end_time": "2020-10-11T04:45:04.203422Z",
     "start_time": "2020-10-11T04:45:04.192484Z"
    }
   },
   "outputs": [
    {
     "data": {
      "text/html": [
       "<div>\n",
       "<style scoped>\n",
       "    .dataframe tbody tr th:only-of-type {\n",
       "        vertical-align: middle;\n",
       "    }\n",
       "\n",
       "    .dataframe tbody tr th {\n",
       "        vertical-align: top;\n",
       "    }\n",
       "\n",
       "    .dataframe thead th {\n",
       "        text-align: right;\n",
       "    }\n",
       "</style>\n",
       "<table border=\"1\" class=\"dataframe\">\n",
       "  <thead>\n",
       "    <tr style=\"text-align: right;\">\n",
       "      <th></th>\n",
       "      <th>reviewText</th>\n",
       "      <th>overall</th>\n",
       "      <th>category</th>\n",
       "    </tr>\n",
       "  </thead>\n",
       "  <tbody>\n",
       "    <tr>\n",
       "      <th>0</th>\n",
       "      <td>Just another flavor of Kit Kat but the taste is unique and a bit different.  The only thing that is bothersome is the price.  I thought it was a bit expensive....</td>\n",
       "      <td>4.0</td>\n",
       "      <td>food</td>\n",
       "    </tr>\n",
       "    <tr>\n",
       "      <th>1</th>\n",
       "      <td>I bought this on impulse and it comes from Japan,  which amused my family,  all those weird stamps and markings on the package. So that was fun.  It said it would take about a month to arrive and it did take that long.  I was hoping for a more interesting taste but to our family,  it just tasted a bit less flavorful or weaker than the standard milk chocolate kit kat.  The green tea flavor was too subtle for the sugar and it just tasted sweet. The wafers were very crispy, and that was good,  but it tasted a bit anemic to us.I'm happy I bought it, but don't need to buy it again.</td>\n",
       "      <td>3.0</td>\n",
       "      <td>food</td>\n",
       "    </tr>\n",
       "  </tbody>\n",
       "</table>\n",
       "</div>"
      ],
      "text/plain": [
       "                                                                                                                                                                                                                                                                                                                                                                                                                                                                                                                                                                                                reviewText  \\\n",
       "0  Just another flavor of Kit Kat but the taste is unique and a bit different.  The only thing that is bothersome is the price.  I thought it was a bit expensive....                                                                                                                                                                                                                                                                                                                                                                                                                                        \n",
       "1  I bought this on impulse and it comes from Japan,  which amused my family,  all those weird stamps and markings on the package. So that was fun.  It said it would take about a month to arrive and it did take that long.  I was hoping for a more interesting taste but to our family,  it just tasted a bit less flavorful or weaker than the standard milk chocolate kit kat.  The green tea flavor was too subtle for the sugar and it just tasted sweet. The wafers were very crispy, and that was good,  but it tasted a bit anemic to us.I'm happy I bought it, but don't need to buy it again.   \n",
       "\n",
       "   overall category  \n",
       "0  4.0      food     \n",
       "1  3.0      food     "
      ]
     },
     "execution_count": 7,
     "metadata": {},
     "output_type": "execute_result"
    }
   ],
   "source": [
    "data.head(2)"
   ]
  },
  {
   "cell_type": "code",
   "execution_count": 8,
   "metadata": {
    "ExecuteTime": {
     "end_time": "2020-10-11T04:45:05.600052Z",
     "start_time": "2020-10-11T04:45:04.206497Z"
    }
   },
   "outputs": [],
   "source": [
    "data[\"category\"].dropna(inplace=True)\n",
    "data.drop_duplicates(inplace=True)"
   ]
  },
  {
   "cell_type": "code",
   "execution_count": 9,
   "metadata": {
    "ExecuteTime": {
     "end_time": "2020-10-11T04:45:05.611397Z",
     "start_time": "2020-10-11T04:45:05.602393Z"
    }
   },
   "outputs": [
    {
     "data": {
      "text/html": [
       "<div>\n",
       "<style scoped>\n",
       "    .dataframe tbody tr th:only-of-type {\n",
       "        vertical-align: middle;\n",
       "    }\n",
       "\n",
       "    .dataframe tbody tr th {\n",
       "        vertical-align: top;\n",
       "    }\n",
       "\n",
       "    .dataframe thead th {\n",
       "        text-align: right;\n",
       "    }\n",
       "</style>\n",
       "<table border=\"1\" class=\"dataframe\">\n",
       "  <thead>\n",
       "    <tr style=\"text-align: right;\">\n",
       "      <th></th>\n",
       "      <th>reviewText</th>\n",
       "      <th>overall</th>\n",
       "      <th>category</th>\n",
       "    </tr>\n",
       "  </thead>\n",
       "  <tbody>\n",
       "    <tr>\n",
       "      <th>0</th>\n",
       "      <td>Just another flavor of Kit Kat but the taste is unique and a bit different.  The only thing that is bothersome is the price.  I thought it was a bit expensive....</td>\n",
       "      <td>4.0</td>\n",
       "      <td>food</td>\n",
       "    </tr>\n",
       "    <tr>\n",
       "      <th>1</th>\n",
       "      <td>I bought this on impulse and it comes from Japan,  which amused my family,  all those weird stamps and markings on the package. So that was fun.  It said it would take about a month to arrive and it did take that long.  I was hoping for a more interesting taste but to our family,  it just tasted a bit less flavorful or weaker than the standard milk chocolate kit kat.  The green tea flavor was too subtle for the sugar and it just tasted sweet. The wafers were very crispy, and that was good,  but it tasted a bit anemic to us.I'm happy I bought it, but don't need to buy it again.</td>\n",
       "      <td>3.0</td>\n",
       "      <td>food</td>\n",
       "    </tr>\n",
       "  </tbody>\n",
       "</table>\n",
       "</div>"
      ],
      "text/plain": [
       "                                                                                                                                                                                                                                                                                                                                                                                                                                                                                                                                                                                                reviewText  \\\n",
       "0  Just another flavor of Kit Kat but the taste is unique and a bit different.  The only thing that is bothersome is the price.  I thought it was a bit expensive....                                                                                                                                                                                                                                                                                                                                                                                                                                        \n",
       "1  I bought this on impulse and it comes from Japan,  which amused my family,  all those weird stamps and markings on the package. So that was fun.  It said it would take about a month to arrive and it did take that long.  I was hoping for a more interesting taste but to our family,  it just tasted a bit less flavorful or weaker than the standard milk chocolate kit kat.  The green tea flavor was too subtle for the sugar and it just tasted sweet. The wafers were very crispy, and that was good,  but it tasted a bit anemic to us.I'm happy I bought it, but don't need to buy it again.   \n",
       "\n",
       "   overall category  \n",
       "0  4.0      food     \n",
       "1  3.0      food     "
      ]
     },
     "execution_count": 9,
     "metadata": {},
     "output_type": "execute_result"
    }
   ],
   "source": [
    "data.head(2)"
   ]
  },
  {
   "cell_type": "code",
   "execution_count": 10,
   "metadata": {
    "ExecuteTime": {
     "end_time": "2020-10-11T04:45:05.689339Z",
     "start_time": "2020-10-11T04:45:05.613498Z"
    }
   },
   "outputs": [],
   "source": [
    "data=data.groupby(\"category\").head(10000)"
   ]
  },
  {
   "cell_type": "code",
   "execution_count": 11,
   "metadata": {
    "ExecuteTime": {
     "end_time": "2020-10-11T04:45:05.702251Z",
     "start_time": "2020-10-11T04:45:05.691188Z"
    }
   },
   "outputs": [
    {
     "data": {
      "text/plain": [
       "petsupplies    10000\n",
       "food           10000\n",
       "games          10000\n",
       "beauty         10000\n",
       "office         10000\n",
       "Name: category, dtype: int64"
      ]
     },
     "execution_count": 11,
     "metadata": {},
     "output_type": "execute_result"
    }
   ],
   "source": [
    "data[\"category\"].value_counts()"
   ]
  },
  {
   "cell_type": "code",
   "execution_count": 12,
   "metadata": {
    "ExecuteTime": {
     "end_time": "2020-10-11T04:45:05.708740Z",
     "start_time": "2020-10-11T04:45:05.704303Z"
    }
   },
   "outputs": [
    {
     "data": {
      "text/plain": [
       "50000"
      ]
     },
     "execution_count": 12,
     "metadata": {},
     "output_type": "execute_result"
    }
   ],
   "source": [
    "len(data)"
   ]
  },
  {
   "cell_type": "markdown",
   "metadata": {},
   "source": [
    "# Data Cleaning"
   ]
  },
  {
   "cell_type": "code",
   "execution_count": 13,
   "metadata": {
    "ExecuteTime": {
     "end_time": "2020-10-11T04:45:06.280552Z",
     "start_time": "2020-10-11T04:45:05.710427Z"
    }
   },
   "outputs": [],
   "source": [
    "import string\n",
    "from nltk.tokenize import word_tokenize as tokenize\n",
    "from nltk.corpus import stopwords\n",
    "stop_words=stopwords.words('english')"
   ]
  },
  {
   "cell_type": "code",
   "execution_count": 14,
   "metadata": {
    "ExecuteTime": {
     "end_time": "2020-10-11T04:45:06.287804Z",
     "start_time": "2020-10-11T04:45:06.282394Z"
    }
   },
   "outputs": [],
   "source": [
    "def clean(text):\n",
    "    text=text.lower()\n",
    "    url_removed=re.sub(r'https\\S+','',text,flags=re.MULTILINE)\n",
    "    text=re.sub(\"[^a-zA-Z]\",\" \",url_removed)\n",
    "    text=re.sub(\"\\.+\",\" \",text)\n",
    "    word_tokens=tokenize(text)\n",
    "    text=[word for word in word_tokens if word  not in stop_words]\n",
    "    text=[word for word in text if word not in string.punctuation]\n",
    "    return \" \".join(text)"
   ]
  },
  {
   "cell_type": "code",
   "execution_count": 15,
   "metadata": {
    "ExecuteTime": {
     "end_time": "2020-10-11T04:45:06.301981Z",
     "start_time": "2020-10-11T04:45:06.289885Z"
    }
   },
   "outputs": [
    {
     "data": {
      "text/plain": [
       "'good day'"
      ]
     },
     "execution_count": 15,
     "metadata": {},
     "output_type": "execute_result"
    }
   ],
   "source": [
    "clean(\"This is  good day . ! ! , I IS  #\")"
   ]
  },
  {
   "cell_type": "code",
   "execution_count": 16,
   "metadata": {
    "ExecuteTime": {
     "end_time": "2020-10-11T04:45:06.307067Z",
     "start_time": "2020-10-11T04:45:06.303621Z"
    }
   },
   "outputs": [],
   "source": [
    "check=data[\"reviewText\"].iloc[0]"
   ]
  },
  {
   "cell_type": "code",
   "execution_count": 17,
   "metadata": {
    "ExecuteTime": {
     "end_time": "2020-10-11T04:45:06.312890Z",
     "start_time": "2020-10-11T04:45:06.309251Z"
    }
   },
   "outputs": [
    {
     "name": "stdout",
     "output_type": "stream",
     "text": [
      "original sentence \n",
      " Just another flavor of Kit Kat but the taste is unique and a bit different.  The only thing that is bothersome is the price.  I thought it was a bit expensive....\n"
     ]
    }
   ],
   "source": [
    "print(\"original sentence \\n\",check)\n"
   ]
  },
  {
   "cell_type": "code",
   "execution_count": 18,
   "metadata": {
    "ExecuteTime": {
     "end_time": "2020-10-11T04:45:06.319587Z",
     "start_time": "2020-10-11T04:45:06.315009Z"
    }
   },
   "outputs": [
    {
     "name": "stdout",
     "output_type": "stream",
     "text": [
      "cleaned sentence:\n",
      " another flavor kit kat taste unique bit different thing bothersome price thought bit expensive\n"
     ]
    }
   ],
   "source": [
    "print(\"cleaned sentence:\\n\",clean(check))"
   ]
  },
  {
   "cell_type": "code",
   "execution_count": 19,
   "metadata": {
    "ExecuteTime": {
     "end_time": "2020-10-11T04:45:36.526929Z",
     "start_time": "2020-10-11T04:45:06.321238Z"
    }
   },
   "outputs": [],
   "source": [
    "data[\"cleaned_text\"]=data[\"reviewText\"].apply(lambda x:clean(x))"
   ]
  },
  {
   "cell_type": "code",
   "execution_count": null,
   "metadata": {
    "ExecuteTime": {
     "end_time": "2020-10-11T04:13:17.737247Z",
     "start_time": "2020-10-11T04:13:17.726412Z"
    }
   },
   "outputs": [],
   "source": []
  },
  {
   "cell_type": "code",
   "execution_count": 20,
   "metadata": {
    "ExecuteTime": {
     "end_time": "2020-10-11T04:45:36.537518Z",
     "start_time": "2020-10-11T04:45:36.528678Z"
    }
   },
   "outputs": [],
   "source": [
    "category_labels={\"petsupplies\":0,\"beauty\":1,\"games\":2,\"food\":3,\"office\":4}\n",
    "data[\"label\"]=data[\"category\"].map(category_labels)"
   ]
  },
  {
   "cell_type": "code",
   "execution_count": 21,
   "metadata": {
    "ExecuteTime": {
     "end_time": "2020-10-11T04:45:36.551692Z",
     "start_time": "2020-10-11T04:45:36.540351Z"
    }
   },
   "outputs": [
    {
     "data": {
      "text/plain": [
       "petsupplies    10000\n",
       "food           10000\n",
       "games          10000\n",
       "beauty         10000\n",
       "office         10000\n",
       "Name: category, dtype: int64"
      ]
     },
     "execution_count": 21,
     "metadata": {},
     "output_type": "execute_result"
    }
   ],
   "source": [
    "data[\"category\"].value_counts()"
   ]
  },
  {
   "cell_type": "code",
   "execution_count": 22,
   "metadata": {
    "ExecuteTime": {
     "end_time": "2020-10-11T04:45:36.590604Z",
     "start_time": "2020-10-11T04:45:36.554139Z"
    }
   },
   "outputs": [],
   "source": [
    "data.dropna(inplace=True)"
   ]
  },
  {
   "cell_type": "code",
   "execution_count": 23,
   "metadata": {
    "ExecuteTime": {
     "end_time": "2020-10-11T04:45:36.608506Z",
     "start_time": "2020-10-11T04:45:36.595793Z"
    }
   },
   "outputs": [
    {
     "data": {
      "text/plain": [
       "petsupplies    10000\n",
       "food           10000\n",
       "games          10000\n",
       "beauty         10000\n",
       "office         10000\n",
       "Name: category, dtype: int64"
      ]
     },
     "execution_count": 23,
     "metadata": {},
     "output_type": "execute_result"
    }
   ],
   "source": [
    "data[\"category\"].value_counts()"
   ]
  },
  {
   "cell_type": "code",
   "execution_count": 24,
   "metadata": {
    "ExecuteTime": {
     "end_time": "2020-10-11T04:45:36.615823Z",
     "start_time": "2020-10-11T04:45:36.612140Z"
    }
   },
   "outputs": [],
   "source": [
    "data[\"label\"]=data[\"label\"].astype(int)"
   ]
  },
  {
   "cell_type": "code",
   "execution_count": 25,
   "metadata": {
    "ExecuteTime": {
     "end_time": "2020-10-11T04:45:36.632449Z",
     "start_time": "2020-10-11T04:45:36.618073Z"
    }
   },
   "outputs": [
    {
     "data": {
      "text/html": [
       "<div>\n",
       "<style scoped>\n",
       "    .dataframe tbody tr th:only-of-type {\n",
       "        vertical-align: middle;\n",
       "    }\n",
       "\n",
       "    .dataframe tbody tr th {\n",
       "        vertical-align: top;\n",
       "    }\n",
       "\n",
       "    .dataframe thead th {\n",
       "        text-align: right;\n",
       "    }\n",
       "</style>\n",
       "<table border=\"1\" class=\"dataframe\">\n",
       "  <thead>\n",
       "    <tr style=\"text-align: right;\">\n",
       "      <th></th>\n",
       "      <th>reviewText</th>\n",
       "      <th>overall</th>\n",
       "      <th>category</th>\n",
       "      <th>cleaned_text</th>\n",
       "      <th>label</th>\n",
       "    </tr>\n",
       "  </thead>\n",
       "  <tbody>\n",
       "    <tr>\n",
       "      <th>0</th>\n",
       "      <td>Just another flavor of Kit Kat but the taste is unique and a bit different.  The only thing that is bothersome is the price.  I thought it was a bit expensive....</td>\n",
       "      <td>4.0</td>\n",
       "      <td>food</td>\n",
       "      <td>another flavor kit kat taste unique bit different thing bothersome price thought bit expensive</td>\n",
       "      <td>3</td>\n",
       "    </tr>\n",
       "    <tr>\n",
       "      <th>1</th>\n",
       "      <td>I bought this on impulse and it comes from Japan,  which amused my family,  all those weird stamps and markings on the package. So that was fun.  It said it would take about a month to arrive and it did take that long.  I was hoping for a more interesting taste but to our family,  it just tasted a bit less flavorful or weaker than the standard milk chocolate kit kat.  The green tea flavor was too subtle for the sugar and it just tasted sweet. The wafers were very crispy, and that was good,  but it tasted a bit anemic to us.I'm happy I bought it, but don't need to buy it again.</td>\n",
       "      <td>3.0</td>\n",
       "      <td>food</td>\n",
       "      <td>bought impulse comes japan amused family weird stamps markings package fun said would take month arrive take long hoping interesting taste family tasted bit less flavorful weaker standard milk chocolate kit kat green tea flavor subtle sugar tasted sweet wafers crispy good tasted bit anemic us happy bought need buy</td>\n",
       "      <td>3</td>\n",
       "    </tr>\n",
       "  </tbody>\n",
       "</table>\n",
       "</div>"
      ],
      "text/plain": [
       "                                                                                                                                                                                                                                                                                                                                                                                                                                                                                                                                                                                                reviewText  \\\n",
       "0  Just another flavor of Kit Kat but the taste is unique and a bit different.  The only thing that is bothersome is the price.  I thought it was a bit expensive....                                                                                                                                                                                                                                                                                                                                                                                                                                        \n",
       "1  I bought this on impulse and it comes from Japan,  which amused my family,  all those weird stamps and markings on the package. So that was fun.  It said it would take about a month to arrive and it did take that long.  I was hoping for a more interesting taste but to our family,  it just tasted a bit less flavorful or weaker than the standard milk chocolate kit kat.  The green tea flavor was too subtle for the sugar and it just tasted sweet. The wafers were very crispy, and that was good,  but it tasted a bit anemic to us.I'm happy I bought it, but don't need to buy it again.   \n",
       "\n",
       "   overall category  \\\n",
       "0  4.0      food      \n",
       "1  3.0      food      \n",
       "\n",
       "                                                                                                                                                                                                                                                                                                                  cleaned_text  \\\n",
       "0  another flavor kit kat taste unique bit different thing bothersome price thought bit expensive                                                                                                                                                                                                                                \n",
       "1  bought impulse comes japan amused family weird stamps markings package fun said would take month arrive take long hoping interesting taste family tasted bit less flavorful weaker standard milk chocolate kit kat green tea flavor subtle sugar tasted sweet wafers crispy good tasted bit anemic us happy bought need buy   \n",
       "\n",
       "   label  \n",
       "0  3      \n",
       "1  3      "
      ]
     },
     "execution_count": 25,
     "metadata": {},
     "output_type": "execute_result"
    }
   ],
   "source": [
    "data.head(2)"
   ]
  },
  {
   "cell_type": "code",
   "execution_count": 26,
   "metadata": {
    "ExecuteTime": {
     "end_time": "2020-10-11T04:45:36.644881Z",
     "start_time": "2020-10-11T04:45:36.634410Z"
    }
   },
   "outputs": [
    {
     "data": {
      "text/plain": [
       "4    10000\n",
       "3    10000\n",
       "2    10000\n",
       "1    10000\n",
       "0    10000\n",
       "Name: label, dtype: int64"
      ]
     },
     "execution_count": 26,
     "metadata": {},
     "output_type": "execute_result"
    }
   ],
   "source": [
    "data[\"label\"].value_counts()"
   ]
  },
  {
   "cell_type": "code",
   "execution_count": 27,
   "metadata": {
    "ExecuteTime": {
     "end_time": "2020-10-11T04:45:36.665267Z",
     "start_time": "2020-10-11T04:45:36.647000Z"
    }
   },
   "outputs": [],
   "source": [
    "train_samples_class_0=data[data[\"label\"]==0][:9000]\n",
    "train_samples_class_1=data[data[\"label\"]==1][:9000]\n",
    "train_samples_class_2=data[data[\"label\"]==2][:9000]\n",
    "train_samples_class_3=data[data[\"label\"]==3][:9000]\n",
    "train_samples_class_4=data[data[\"label\"]==4][:9000]\n",
    "\n",
    "\n"
   ]
  },
  {
   "cell_type": "code",
   "execution_count": 28,
   "metadata": {
    "ExecuteTime": {
     "end_time": "2020-10-11T04:45:36.690700Z",
     "start_time": "2020-10-11T04:45:36.667884Z"
    }
   },
   "outputs": [],
   "source": [
    "train=pd.concat([train_samples_class_0,train_samples_class_1,train_samples_class_2,train_samples_class_3,train_samples_class_4])"
   ]
  },
  {
   "cell_type": "code",
   "execution_count": 29,
   "metadata": {
    "ExecuteTime": {
     "end_time": "2020-10-11T04:45:36.696826Z",
     "start_time": "2020-10-11T04:45:36.692598Z"
    }
   },
   "outputs": [
    {
     "data": {
      "text/plain": [
       "45000"
      ]
     },
     "execution_count": 29,
     "metadata": {},
     "output_type": "execute_result"
    }
   ],
   "source": [
    "len(train)"
   ]
  },
  {
   "cell_type": "code",
   "execution_count": 30,
   "metadata": {
    "ExecuteTime": {
     "end_time": "2020-10-11T04:45:36.725176Z",
     "start_time": "2020-10-11T04:45:36.698965Z"
    }
   },
   "outputs": [],
   "source": [
    "train=train.sample(frac=1.0)"
   ]
  },
  {
   "cell_type": "code",
   "execution_count": 31,
   "metadata": {
    "ExecuteTime": {
     "end_time": "2020-10-11T04:45:36.747772Z",
     "start_time": "2020-10-11T04:45:36.728088Z"
    }
   },
   "outputs": [],
   "source": [
    "test_samples_class_0=data[data[\"label\"]==0][9000:]\n",
    "test_samples_class_1=data[data[\"label\"]==1][9000:]\n",
    "test_samples_class_2=data[data[\"label\"]==2][9000:]\n",
    "test_samples_class_3=data[data[\"label\"]==3][9000:]\n",
    "test_samples_class_4=data[data[\"label\"]==4][9000:]\n"
   ]
  },
  {
   "cell_type": "code",
   "execution_count": 32,
   "metadata": {
    "ExecuteTime": {
     "end_time": "2020-10-11T04:45:36.759228Z",
     "start_time": "2020-10-11T04:45:36.750374Z"
    }
   },
   "outputs": [],
   "source": [
    "test=pd.concat([test_samples_class_0,test_samples_class_1,test_samples_class_2,test_samples_class_3,test_samples_class_4])"
   ]
  },
  {
   "cell_type": "code",
   "execution_count": 33,
   "metadata": {
    "ExecuteTime": {
     "end_time": "2020-10-11T04:45:36.771258Z",
     "start_time": "2020-10-11T04:45:36.760907Z"
    }
   },
   "outputs": [],
   "source": [
    "test=test.sample(frac=1.0)"
   ]
  },
  {
   "cell_type": "code",
   "execution_count": 34,
   "metadata": {
    "ExecuteTime": {
     "end_time": "2020-10-11T04:45:36.778365Z",
     "start_time": "2020-10-11T04:45:36.773830Z"
    }
   },
   "outputs": [
    {
     "name": "stdout",
     "output_type": "stream",
     "text": [
      "length of train 45000\n",
      "length of test 5000\n"
     ]
    }
   ],
   "source": [
    "print(\"length of train\",len(train))\n",
    "print(\"length of test\",len(test))"
   ]
  },
  {
   "cell_type": "code",
   "execution_count": 35,
   "metadata": {
    "ExecuteTime": {
     "end_time": "2020-10-11T04:45:36.793696Z",
     "start_time": "2020-10-11T04:45:36.780767Z"
    }
   },
   "outputs": [
    {
     "data": {
      "text/html": [
       "<div>\n",
       "<style scoped>\n",
       "    .dataframe tbody tr th:only-of-type {\n",
       "        vertical-align: middle;\n",
       "    }\n",
       "\n",
       "    .dataframe tbody tr th {\n",
       "        vertical-align: top;\n",
       "    }\n",
       "\n",
       "    .dataframe thead th {\n",
       "        text-align: right;\n",
       "    }\n",
       "</style>\n",
       "<table border=\"1\" class=\"dataframe\">\n",
       "  <thead>\n",
       "    <tr style=\"text-align: right;\">\n",
       "      <th></th>\n",
       "      <th>reviewText</th>\n",
       "      <th>overall</th>\n",
       "      <th>category</th>\n",
       "      <th>cleaned_text</th>\n",
       "      <th>label</th>\n",
       "    </tr>\n",
       "  </thead>\n",
       "  <tbody>\n",
       "    <tr>\n",
       "      <th>5081</th>\n",
       "      <td>I thought this would be a good polish from the reviews, but its not. I had to put on several coats and it still didn't look right. I love Essie polish just not this one.</td>\n",
       "      <td>2.0</td>\n",
       "      <td>beauty</td>\n",
       "      <td>thought would good polish reviews put several coats still look right love essie polish one</td>\n",
       "      <td>1</td>\n",
       "    </tr>\n",
       "    <tr>\n",
       "      <th>497</th>\n",
       "      <td>I'm hopping mad just seeing this. We should all paws for a second, and lettuce think about this. Wouldn't you really just rather have a chicken? I'm all ears if someone disagrees.</td>\n",
       "      <td>2.0</td>\n",
       "      <td>food</td>\n",
       "      <td>hopping mad seeing paws second lettuce think really rather chicken ears someone disagrees</td>\n",
       "      <td>3</td>\n",
       "    </tr>\n",
       "  </tbody>\n",
       "</table>\n",
       "</div>"
      ],
      "text/plain": [
       "                                                                                                                                                                               reviewText  \\\n",
       "5081  I thought this would be a good polish from the reviews, but its not. I had to put on several coats and it still didn't look right. I love Essie polish just not this one.             \n",
       "497   I'm hopping mad just seeing this. We should all paws for a second, and lettuce think about this. Wouldn't you really just rather have a chicken? I'm all ears if someone disagrees.   \n",
       "\n",
       "      overall category  \\\n",
       "5081  2.0      beauty    \n",
       "497   2.0      food      \n",
       "\n",
       "                                                                                    cleaned_text  \\\n",
       "5081  thought would good polish reviews put several coats still look right love essie polish one   \n",
       "497   hopping mad seeing paws second lettuce think really rather chicken ears someone disagrees    \n",
       "\n",
       "      label  \n",
       "5081  1      \n",
       "497   3      "
      ]
     },
     "execution_count": 35,
     "metadata": {},
     "output_type": "execute_result"
    }
   ],
   "source": [
    "train.head(2)"
   ]
  },
  {
   "cell_type": "code",
   "execution_count": 36,
   "metadata": {
    "ExecuteTime": {
     "end_time": "2020-10-11T04:45:36.810610Z",
     "start_time": "2020-10-11T04:45:36.796046Z"
    }
   },
   "outputs": [
    {
     "data": {
      "text/html": [
       "<div>\n",
       "<style scoped>\n",
       "    .dataframe tbody tr th:only-of-type {\n",
       "        vertical-align: middle;\n",
       "    }\n",
       "\n",
       "    .dataframe tbody tr th {\n",
       "        vertical-align: top;\n",
       "    }\n",
       "\n",
       "    .dataframe thead th {\n",
       "        text-align: right;\n",
       "    }\n",
       "</style>\n",
       "<table border=\"1\" class=\"dataframe\">\n",
       "  <thead>\n",
       "    <tr style=\"text-align: right;\">\n",
       "      <th></th>\n",
       "      <th>reviewText</th>\n",
       "      <th>overall</th>\n",
       "      <th>category</th>\n",
       "      <th>cleaned_text</th>\n",
       "      <th>label</th>\n",
       "    </tr>\n",
       "  </thead>\n",
       "  <tbody>\n",
       "    <tr>\n",
       "      <th>9651</th>\n",
       "      <td>This is a great shampoo + conditioner, I have two Scotties, their hair can get pretty tangled if not brushed regularly, once I wash them with this it does help! (I admit i also use the conditioner by the same brand) but the shampoo helps. I wasn't sure about the Lavender &amp; Mint sent when I was ordering it, but I did like it! And the scent lingers for a while on my dog's hair (up to a week, granted they don't roll around in the dirt) I also like that it's not tested on animals.</td>\n",
       "      <td>5.0</td>\n",
       "      <td>beauty</td>\n",
       "      <td>great shampoo conditioner two scotties hair get pretty tangled brushed regularly wash help admit also use conditioner brand shampoo helps sure lavender mint sent ordering like scent lingers dog hair week granted roll around dirt also like tested animals</td>\n",
       "      <td>1</td>\n",
       "    </tr>\n",
       "    <tr>\n",
       "      <th>9841</th>\n",
       "      <td>Flavorful bursts of cinnamon and dashes of licorice dance within this delicious tea.This tea is an excellent selection to relax with after a long day or a delectable way to inspire one's self as the sun rises.Drink Tea for Your HealthIngredients: Eleuthero, Peppermint, Cinnamon, Ginger, Chamomile, West Indian Lemongrass, Licorice, Catnip, Tilia Flowers, Natural Lemon Flavor with other natural flavors (contains Soy Lecithin), Hops, and Vitamin B6 and B12.EleutheroAs an adaptogenic herb, Eleuthero helps the body adapt to stress.PeppermintPrized for its multiple medicinal benefits, some of the ailment peppermint helps alleviate include digestive issues and fights stress.CinnamonHaving immune-boosting properties, cinnamon also aids the digestive system.GingerThis helpful herb can assist the digestive system and can sometimes prove beneficial for seasickness, morning sickness, and chemotherapy.ChamomileWith anti-inflammatory and antispasmodic properties, chamomile can be helpful for easing stomach and intestinal cramps.Serving suggestions: This herbal tea is delightfully when consumed warm, or when poured over ice. Drink by itself, or sweeten with sugar or honey, or splash with milk, creamer, almond milk, rice drink, or coconut milk, to add an additional depth to this already fully flavored tea.Celestial Seasoning Brews Up Teapots of  Environment ResponsibilityCelestial Seasonings teas are packaged in completely compostable and biodegradable pillow-design tea bags without the need for a tag, string, staple, or individual wrapper. These unique tea bags are packed in boxes manufactured from 100% recyclable materials. Resulting in Celestial Seasonings' love for the earth and their innovative tea bags, they save three-and-a-half pounds of waste each year.Brew yourself a cup of Celestial Seasonings Herbal Tea Tension Tamer and experience the pure flavorful relaxation!Disclosure of Material Connection: I received this product free from Linhart P.R. I was not required to write a positive review. The opinions I have expressed are my own. I am disclosing this in accordance with the Federal Trade Commission's 16 CFR, Part 255vf: \"Guides Concerning the Use of Endorsements and Testimonials in Advertising.\"</td>\n",
       "      <td>5.0</td>\n",
       "      <td>food</td>\n",
       "      <td>flavorful bursts cinnamon dashes licorice dance within delicious tea tea excellent selection relax long day delectable way inspire one self sun rises drink tea healthingredients eleuthero peppermint cinnamon ginger chamomile west indian lemongrass licorice catnip tilia flowers natural lemon flavor natural flavors contains soy lecithin hops vitamin b b eleutheroas adaptogenic herb eleuthero helps body adapt stress peppermintprized multiple medicinal benefits ailment peppermint helps alleviate include digestive issues fights stress cinnamonhaving immune boosting properties cinnamon also aids digestive system gingerthis helpful herb assist digestive system sometimes prove beneficial seasickness morning sickness chemotherapy chamomilewith anti inflammatory antispasmodic properties chamomile helpful easing stomach intestinal cramps serving suggestions herbal tea delightfully consumed warm poured ice drink sweeten sugar honey splash milk creamer almond milk rice drink coconut milk add additional depth already fully flavored tea celestial seasoning brews teapots environment responsibilitycelestial seasonings teas packaged completely compostable biodegradable pillow design tea bags without need tag string staple individual wrapper unique tea bags packed boxes manufactured recyclable materials resulting celestial seasonings love earth innovative tea bags save three half pounds waste year brew cup celestial seasonings herbal tea tension tamer experience pure flavorful relaxation disclosure material connection received product free linhart p r required write positive review opinions expressed disclosing accordance federal trade commission cfr part vf guides concerning use endorsements testimonials advertising</td>\n",
       "      <td>3</td>\n",
       "    </tr>\n",
       "  </tbody>\n",
       "</table>\n",
       "</div>"
      ],
      "text/plain": [
       "                                                                                                                                                                                                                                                                                                                                                                                                                                                                                                                                                                                                                                                                                                                                                                                                                                                                                                                                                                                                                                                                                                                                                                                                                                                                                                                                                                                                                                                                                                                                                                                                                                                                                                                                                                                                                                                                                                                                                                                                                                                                                                                                                                                                                                                                                                                reviewText  \\\n",
       "9651  This is a great shampoo + conditioner, I have two Scotties, their hair can get pretty tangled if not brushed regularly, once I wash them with this it does help! (I admit i also use the conditioner by the same brand) but the shampoo helps. I wasn't sure about the Lavender & Mint sent when I was ordering it, but I did like it! And the scent lingers for a while on my dog's hair (up to a week, granted they don't roll around in the dirt) I also like that it's not tested on animals.                                                                                                                                                                                                                                                                                                                                                                                                                                                                                                                                                                                                                                                                                                                                                                                                                                                                                                                                                                                                                                                                                                                                                                                                                                                                                                                                                                                                                                                                                                                                                                                                                                                                                                                                                                                                                      \n",
       "9841  Flavorful bursts of cinnamon and dashes of licorice dance within this delicious tea.This tea is an excellent selection to relax with after a long day or a delectable way to inspire one's self as the sun rises.Drink Tea for Your HealthIngredients: Eleuthero, Peppermint, Cinnamon, Ginger, Chamomile, West Indian Lemongrass, Licorice, Catnip, Tilia Flowers, Natural Lemon Flavor with other natural flavors (contains Soy Lecithin), Hops, and Vitamin B6 and B12.EleutheroAs an adaptogenic herb, Eleuthero helps the body adapt to stress.PeppermintPrized for its multiple medicinal benefits, some of the ailment peppermint helps alleviate include digestive issues and fights stress.CinnamonHaving immune-boosting properties, cinnamon also aids the digestive system.GingerThis helpful herb can assist the digestive system and can sometimes prove beneficial for seasickness, morning sickness, and chemotherapy.ChamomileWith anti-inflammatory and antispasmodic properties, chamomile can be helpful for easing stomach and intestinal cramps.Serving suggestions: This herbal tea is delightfully when consumed warm, or when poured over ice. Drink by itself, or sweeten with sugar or honey, or splash with milk, creamer, almond milk, rice drink, or coconut milk, to add an additional depth to this already fully flavored tea.Celestial Seasoning Brews Up Teapots of  Environment ResponsibilityCelestial Seasonings teas are packaged in completely compostable and biodegradable pillow-design tea bags without the need for a tag, string, staple, or individual wrapper. These unique tea bags are packed in boxes manufactured from 100% recyclable materials. Resulting in Celestial Seasonings' love for the earth and their innovative tea bags, they save three-and-a-half pounds of waste each year.Brew yourself a cup of Celestial Seasonings Herbal Tea Tension Tamer and experience the pure flavorful relaxation!Disclosure of Material Connection: I received this product free from Linhart P.R. I was not required to write a positive review. The opinions I have expressed are my own. I am disclosing this in accordance with the Federal Trade Commission's 16 CFR, Part 255vf: \"Guides Concerning the Use of Endorsements and Testimonials in Advertising.\"   \n",
       "\n",
       "      overall category  \\\n",
       "9651  5.0      beauty    \n",
       "9841  5.0      food      \n",
       "\n",
       "                                                                                                                                                                                                                                                                                                                                                                                                                                                                                                                                                                                                                                                                                                                                                                                                                                                                                                                                                                                                                                                                                                                                                                                                                                                                                                                                                                                                                                                                                                                                                                                                                                                                                                                                                                                         cleaned_text  \\\n",
       "9651  great shampoo conditioner two scotties hair get pretty tangled brushed regularly wash help admit also use conditioner brand shampoo helps sure lavender mint sent ordering like scent lingers dog hair week granted roll around dirt also like tested animals                                                                                                                                                                                                                                                                                                                                                                                                                                                                                                                                                                                                                                                                                                                                                                                                                                                                                                                                                                                                                                                                                                                                                                                                                                                                                                                                                                                                                                                                                                                                     \n",
       "9841  flavorful bursts cinnamon dashes licorice dance within delicious tea tea excellent selection relax long day delectable way inspire one self sun rises drink tea healthingredients eleuthero peppermint cinnamon ginger chamomile west indian lemongrass licorice catnip tilia flowers natural lemon flavor natural flavors contains soy lecithin hops vitamin b b eleutheroas adaptogenic herb eleuthero helps body adapt stress peppermintprized multiple medicinal benefits ailment peppermint helps alleviate include digestive issues fights stress cinnamonhaving immune boosting properties cinnamon also aids digestive system gingerthis helpful herb assist digestive system sometimes prove beneficial seasickness morning sickness chemotherapy chamomilewith anti inflammatory antispasmodic properties chamomile helpful easing stomach intestinal cramps serving suggestions herbal tea delightfully consumed warm poured ice drink sweeten sugar honey splash milk creamer almond milk rice drink coconut milk add additional depth already fully flavored tea celestial seasoning brews teapots environment responsibilitycelestial seasonings teas packaged completely compostable biodegradable pillow design tea bags without need tag string staple individual wrapper unique tea bags packed boxes manufactured recyclable materials resulting celestial seasonings love earth innovative tea bags save three half pounds waste year brew cup celestial seasonings herbal tea tension tamer experience pure flavorful relaxation disclosure material connection received product free linhart p r required write positive review opinions expressed disclosing accordance federal trade commission cfr part vf guides concerning use endorsements testimonials advertising   \n",
       "\n",
       "      label  \n",
       "9651  1      \n",
       "9841  3      "
      ]
     },
     "execution_count": 36,
     "metadata": {},
     "output_type": "execute_result"
    }
   ],
   "source": [
    "test.head(2)"
   ]
  },
  {
   "cell_type": "code",
   "execution_count": 37,
   "metadata": {
    "ExecuteTime": {
     "end_time": "2020-10-11T04:45:36.820841Z",
     "start_time": "2020-10-11T04:45:36.812660Z"
    }
   },
   "outputs": [],
   "source": [
    "X_train=np.array(train[\"cleaned_text\"])\n",
    "X_test=np.array(test[\"cleaned_text\"])\n",
    "y_train=np.array(train[\"label\"])\n",
    "y_test=np.array(test[\"label\"])"
   ]
  },
  {
   "cell_type": "code",
   "execution_count": 38,
   "metadata": {
    "ExecuteTime": {
     "end_time": "2020-10-11T04:45:36.826615Z",
     "start_time": "2020-10-11T04:45:36.822571Z"
    }
   },
   "outputs": [
    {
     "data": {
      "text/plain": [
       "'thought would good polish reviews put several coats still look right love essie polish one'"
      ]
     },
     "execution_count": 38,
     "metadata": {},
     "output_type": "execute_result"
    }
   ],
   "source": [
    "X_train[0]"
   ]
  },
  {
   "cell_type": "code",
   "execution_count": 39,
   "metadata": {
    "ExecuteTime": {
     "end_time": "2020-10-11T04:45:36.833978Z",
     "start_time": "2020-10-11T04:45:36.829184Z"
    }
   },
   "outputs": [
    {
     "data": {
      "text/plain": [
       "1"
      ]
     },
     "execution_count": 39,
     "metadata": {},
     "output_type": "execute_result"
    }
   ],
   "source": [
    "y_train[0]"
   ]
  },
  {
   "cell_type": "code",
   "execution_count": null,
   "metadata": {},
   "outputs": [],
   "source": []
  },
  {
   "cell_type": "markdown",
   "metadata": {},
   "source": [
    "# Data Preprocessing"
   ]
  },
  {
   "cell_type": "code",
   "execution_count": 40,
   "metadata": {
    "ExecuteTime": {
     "end_time": "2020-10-11T04:45:38.554286Z",
     "start_time": "2020-10-11T04:45:36.836678Z"
    }
   },
   "outputs": [],
   "source": [
    "from tensorflow.keras.preprocessing.text import Tokenizer\n",
    "from tensorflow.keras.preprocessing.sequence import pad_sequences\n",
    "from tensorflow.keras import Sequential"
   ]
  },
  {
   "cell_type": "markdown",
   "metadata": {},
   "source": [
    "### Tokenizer"
   ]
  },
  {
   "cell_type": "code",
   "execution_count": 41,
   "metadata": {
    "ExecuteTime": {
     "end_time": "2020-10-11T04:45:40.558928Z",
     "start_time": "2020-10-11T04:45:38.556249Z"
    }
   },
   "outputs": [],
   "source": [
    "tokenizer=Tokenizer(oov_token=\"<OOV>\")\n",
    "tokenizer.fit_on_texts(X_train)\n",
    "\n",
    "word_index=tokenizer.word_index"
   ]
  },
  {
   "cell_type": "code",
   "execution_count": 42,
   "metadata": {
    "ExecuteTime": {
     "end_time": "2020-10-11T04:45:40.572694Z",
     "start_time": "2020-10-11T04:45:40.560793Z"
    }
   },
   "outputs": [
    {
     "data": {
      "text/plain": [
       "{'<OOV>': 1,\n",
       " 'like': 2,\n",
       " 'one': 3,\n",
       " 'use': 4,\n",
       " 'great': 5,\n",
       " 'good': 6,\n",
       " 'product': 7,\n",
       " 'get': 8,\n",
       " 'game': 9,\n",
       " 'would': 10,\n",
       " 'well': 11,\n",
       " 'really': 12,\n",
       " 'time': 13,\n",
       " 'love': 14,\n",
       " 'also': 15,\n",
       " 'much': 16,\n",
       " 'little': 17,\n",
       " 'used': 18,\n",
       " 'skin': 19,\n",
       " 'even': 20}"
      ]
     },
     "execution_count": 42,
     "metadata": {},
     "output_type": "execute_result"
    }
   ],
   "source": [
    "dict(list(word_index.items())[0:20])"
   ]
  },
  {
   "cell_type": "code",
   "execution_count": 43,
   "metadata": {
    "ExecuteTime": {
     "end_time": "2020-10-11T04:45:40.578900Z",
     "start_time": "2020-10-11T04:45:40.574545Z"
    }
   },
   "outputs": [
    {
     "name": "stdout",
     "output_type": "stream",
     "text": [
      "45668\n",
      "45669\n"
     ]
    }
   ],
   "source": [
    "print(len(word_index))\n",
    "vocab_size=len(word_index)+1\n",
    "print(vocab_size)"
   ]
  },
  {
   "cell_type": "code",
   "execution_count": 100,
   "metadata": {
    "ExecuteTime": {
     "end_time": "2020-10-11T06:02:23.624364Z",
     "start_time": "2020-10-11T06:02:23.440986Z"
    }
   },
   "outputs": [],
   "source": [
    "data[\"len\"]=data[\"cleaned_text\"].apply(lambda x:len(x.split()))"
   ]
  },
  {
   "cell_type": "code",
   "execution_count": 103,
   "metadata": {
    "ExecuteTime": {
     "end_time": "2020-10-11T06:03:23.554596Z",
     "start_time": "2020-10-11T06:03:23.334415Z"
    }
   },
   "outputs": [
    {
     "data": {
      "text/plain": [
       "(array([16622., 15255.,  7285.,  4022.,  2292.,  1378.,   954.,   634.,\n",
       "          404.,   283.]),\n",
       " array([  0.,  20.,  40.,  60.,  80., 100., 120., 140., 160., 180., 200.]),\n",
       " <a list of 10 Patch objects>)"
      ]
     },
     "execution_count": 103,
     "metadata": {},
     "output_type": "execute_result"
    },
    {
     "data": {
      "image/png": "[encoded data removed]",
      "text/plain": [
       "<Figure size 432x288 with 1 Axes>"
      ]
     },
     "metadata": {
      "needs_background": "light"
     },
     "output_type": "display_data"
    }
   ],
   "source": [
    "import matplotlib.pyplot as plt\n",
    "plt.hist(data[\"len\"],range=(0,200))"
   ]
  },
  {
   "cell_type": "code",
   "execution_count": 44,
   "metadata": {
    "ExecuteTime": {
     "end_time": "2020-10-11T04:45:42.266692Z",
     "start_time": "2020-10-11T04:45:40.580514Z"
    }
   },
   "outputs": [
    {
     "name": "stdout",
     "output_type": "stream",
     "text": [
      "[164, 10, 6, 774, 206, 46, 155, 1454, 26, 107, 91, 14, 3087, 774, 3]\n",
      "15\n"
     ]
    }
   ],
   "source": [
    "max_length=100\n",
    "embedding_dim=300 # every word will have 300 values [0.....300]\n",
    "trunc_type='post'\n",
    "padding_type='post'\n",
    "\n",
    "\n",
    "train_sequences=tokenizer.texts_to_sequences(X_train)\n",
    "print(train_sequences[0])\n",
    "print(len(train_sequences[0]))"
   ]
  },
  {
   "cell_type": "code",
   "execution_count": 49,
   "metadata": {
    "ExecuteTime": {
     "end_time": "2020-10-11T04:46:44.673124Z",
     "start_time": "2020-10-11T04:46:44.513399Z"
    }
   },
   "outputs": [
    {
     "name": "stdout",
     "output_type": "stream",
     "text": [
      "[5, 496, 609, 32, 1, 33, 8, 108, 3241, 3741, 1394, 351, 161, 1364, 15, 4, 609, 128, 496, 320, 88, 1806, 1895, 1014, 869, 2, 340, 5843, 73, 33, 274, 3085, 355, 72, 2019, 15, 2, 1564, 1362]\n"
     ]
    }
   ],
   "source": [
    "test_sequences=tokenizer.texts_to_sequences(X_test)\n",
    "print(test_sequences[0])"
   ]
  },
  {
   "cell_type": "code",
   "execution_count": 59,
   "metadata": {
    "ExecuteTime": {
     "end_time": "2020-10-11T04:48:38.981098Z",
     "start_time": "2020-10-11T04:48:38.961967Z"
    }
   },
   "outputs": [],
   "source": [
    "vocab=dict(list(word_index.items()))"
   ]
  },
  {
   "cell_type": "code",
   "execution_count": 65,
   "metadata": {
    "ExecuteTime": {
     "end_time": "2020-10-11T04:49:32.534650Z",
     "start_time": "2020-10-11T04:49:32.530184Z"
    }
   },
   "outputs": [
    {
     "data": {
      "text/plain": [
       "'great shampoo conditioner two scotties hair get pretty tangled brushed regularly wash help admit also use conditioner brand shampoo helps sure lavender mint sent ordering like scent lingers dog hair week granted roll around dirt also like tested animals'"
      ]
     },
     "execution_count": 65,
     "metadata": {},
     "output_type": "execute_result"
    }
   ],
   "source": [
    "X_test[0]"
   ]
  },
  {
   "cell_type": "code",
   "execution_count": null,
   "metadata": {},
   "outputs": [],
   "source": [
    "explain='great shampoo conditioner two scotties hair '\n",
    "embed='[0.2,0.4,0.6,....until 300] [0.2,0.333,0.07,....until 300]'"
   ]
  },
  {
   "cell_type": "code",
   "execution_count": 61,
   "metadata": {
    "ExecuteTime": {
     "end_time": "2020-10-11T04:48:53.669031Z",
     "start_time": "2020-10-11T04:48:53.665140Z"
    }
   },
   "outputs": [
    {
     "data": {
      "text/plain": [
       "5"
      ]
     },
     "execution_count": 61,
     "metadata": {},
     "output_type": "execute_result"
    }
   ],
   "source": [
    "vocab.get('great')"
   ]
  },
  {
   "cell_type": "code",
   "execution_count": 66,
   "metadata": {
    "ExecuteTime": {
     "end_time": "2020-10-11T04:50:01.637243Z",
     "start_time": "2020-10-11T04:50:01.633189Z"
    }
   },
   "outputs": [
    {
     "data": {
      "text/plain": [
       "496"
      ]
     },
     "execution_count": 66,
     "metadata": {},
     "output_type": "execute_result"
    }
   ],
   "source": [
    "vocab.get('shampoo')"
   ]
  },
  {
   "cell_type": "markdown",
   "metadata": {},
   "source": [
    "### padding"
   ]
  },
  {
   "cell_type": "code",
   "execution_count": 45,
   "metadata": {
    "ExecuteTime": {
     "end_time": "2020-10-11T04:45:42.640341Z",
     "start_time": "2020-10-11T04:45:42.268563Z"
    }
   },
   "outputs": [],
   "source": [
    "train_padded=pad_sequences(train_sequences,maxlen=max_length,padding=padding_type,truncating=trunc_type)"
   ]
  },
  {
   "cell_type": "code",
   "execution_count": 47,
   "metadata": {
    "ExecuteTime": {
     "end_time": "2020-10-11T04:45:49.311997Z",
     "start_time": "2020-10-11T04:45:49.307768Z"
    }
   },
   "outputs": [
    {
     "name": "stdout",
     "output_type": "stream",
     "text": [
      "[ 164   10    6  774  206   46  155 1454   26  107   91   14 3087  774\n",
      "    3    0    0    0    0    0    0    0    0    0    0    0    0    0\n",
      "    0    0    0    0    0    0    0    0    0    0    0    0    0    0\n",
      "    0    0    0    0    0    0    0    0    0    0    0    0    0    0\n",
      "    0    0    0    0    0    0    0    0    0    0    0    0    0    0\n",
      "    0    0    0    0    0    0    0    0    0    0    0    0    0    0\n",
      "    0    0    0    0    0    0    0    0    0    0    0    0    0    0\n",
      "    0    0]\n",
      "100\n",
      "100\n"
     ]
    }
   ],
   "source": [
    "print(train_padded[0])\n",
    "print(len(train_padded[0]))\n",
    "print(len(train_padded[1]))"
   ]
  },
  {
   "cell_type": "code",
   "execution_count": 67,
   "metadata": {
    "ExecuteTime": {
     "end_time": "2020-10-11T04:50:37.863008Z",
     "start_time": "2020-10-11T04:50:37.823794Z"
    }
   },
   "outputs": [],
   "source": [
    "test_padded=pad_sequences(test_sequences,maxlen=max_length,padding=padding_type,truncating=trunc_type)"
   ]
  },
  {
   "cell_type": "code",
   "execution_count": 68,
   "metadata": {
    "ExecuteTime": {
     "end_time": "2020-10-11T04:50:54.540138Z",
     "start_time": "2020-10-11T04:50:54.536199Z"
    }
   },
   "outputs": [
    {
     "name": "stdout",
     "output_type": "stream",
     "text": [
      "[   5  496  609   32    1   33    8  108 3241 3741 1394  351  161 1364\n",
      "   15    4  609  128  496  320   88 1806 1895 1014  869    2  340 5843\n",
      "   73   33  274 3085  355   72 2019   15    2 1564 1362    0    0    0\n",
      "    0    0    0    0    0    0    0    0    0    0    0    0    0    0\n",
      "    0    0    0    0    0    0    0    0    0    0    0    0    0    0\n",
      "    0    0    0    0    0    0    0    0    0    0    0    0    0    0\n",
      "    0    0    0    0    0    0    0    0    0    0    0    0    0    0\n",
      "    0    0]\n"
     ]
    }
   ],
   "source": [
    "print(test_padded[0])"
   ]
  },
  {
   "cell_type": "code",
   "execution_count": 69,
   "metadata": {
    "ExecuteTime": {
     "end_time": "2020-10-11T04:51:04.451501Z",
     "start_time": "2020-10-11T04:51:04.447285Z"
    }
   },
   "outputs": [
    {
     "name": "stdout",
     "output_type": "stream",
     "text": [
      "100\n"
     ]
    }
   ],
   "source": [
    "print(len(test_padded[0]))"
   ]
  },
  {
   "cell_type": "code",
   "execution_count": 70,
   "metadata": {
    "ExecuteTime": {
     "end_time": "2020-10-11T04:53:03.991270Z",
     "start_time": "2020-10-11T04:53:03.967181Z"
    }
   },
   "outputs": [],
   "source": [
    "reverse_word_index=dict([(value,key) for (key,value) in word_index.items()])"
   ]
  },
  {
   "cell_type": "code",
   "execution_count": 71,
   "metadata": {
    "ExecuteTime": {
     "end_time": "2020-10-11T04:53:10.740378Z",
     "start_time": "2020-10-11T04:53:10.735957Z"
    }
   },
   "outputs": [
    {
     "data": {
      "text/plain": [
       "'great'"
      ]
     },
     "execution_count": 71,
     "metadata": {},
     "output_type": "execute_result"
    }
   ],
   "source": [
    "reverse_word_index[5]"
   ]
  },
  {
   "cell_type": "code",
   "execution_count": 72,
   "metadata": {
    "ExecuteTime": {
     "end_time": "2020-10-11T04:54:38.950514Z",
     "start_time": "2020-10-11T04:54:38.947067Z"
    }
   },
   "outputs": [],
   "source": [
    "def decode_sentence(text):\n",
    "    return \" \".join([reverse_word_index.get(i,'?') for i in text])"
   ]
  },
  {
   "cell_type": "code",
   "execution_count": 73,
   "metadata": {
    "ExecuteTime": {
     "end_time": "2020-10-11T04:54:57.344871Z",
     "start_time": "2020-10-11T04:54:57.340418Z"
    }
   },
   "outputs": [
    {
     "data": {
      "text/plain": [
       "'great shampoo conditioner two <OOV> hair get pretty tangled brushed regularly wash help admit also use conditioner brand shampoo helps sure lavender mint sent ordering like scent lingers dog hair week granted roll around dirt also like tested animals ? ? ? ? ? ? ? ? ? ? ? ? ? ? ? ? ? ? ? ? ? ? ? ? ? ? ? ? ? ? ? ? ? ? ? ? ? ? ? ? ? ? ? ? ? ? ? ? ? ? ? ? ? ? ? ? ? ? ? ? ?'"
      ]
     },
     "execution_count": 73,
     "metadata": {},
     "output_type": "execute_result"
    }
   ],
   "source": [
    "decode_sentence(test_padded[0])"
   ]
  },
  {
   "cell_type": "code",
   "execution_count": 74,
   "metadata": {
    "ExecuteTime": {
     "end_time": "2020-10-11T04:55:41.463820Z",
     "start_time": "2020-10-11T04:55:41.459746Z"
    }
   },
   "outputs": [
    {
     "data": {
      "text/plain": [
       "'great shampoo conditioner two scotties hair get pretty tangled brushed regularly wash help admit also use conditioner brand shampoo helps sure lavender mint sent ordering like scent lingers dog hair week granted roll around dirt also like tested animals'"
      ]
     },
     "execution_count": 74,
     "metadata": {},
     "output_type": "execute_result"
    }
   ],
   "source": [
    "X_test[0]"
   ]
  },
  {
   "cell_type": "code",
   "execution_count": null,
   "metadata": {},
   "outputs": [],
   "source": []
  },
  {
   "cell_type": "markdown",
   "metadata": {},
   "source": [
    "# Model Development"
   ]
  },
  {
   "cell_type": "code",
   "execution_count": 75,
   "metadata": {
    "ExecuteTime": {
     "end_time": "2020-10-11T04:56:56.663066Z",
     "start_time": "2020-10-11T04:56:56.660221Z"
    }
   },
   "outputs": [],
   "source": [
    "import tensorflow as tf"
   ]
  },
  {
   "cell_type": "code",
   "execution_count": 77,
   "metadata": {
    "ExecuteTime": {
     "end_time": "2020-10-11T04:58:42.005099Z",
     "start_time": "2020-10-11T04:58:42.001145Z"
    }
   },
   "outputs": [
    {
     "data": {
      "text/plain": [
       "45669"
      ]
     },
     "execution_count": 77,
     "metadata": {},
     "output_type": "execute_result"
    }
   ],
   "source": [
    "vocab_size"
   ]
  },
  {
   "cell_type": "code",
   "execution_count": 79,
   "metadata": {
    "ExecuteTime": {
     "end_time": "2020-10-11T05:21:50.202035Z",
     "start_time": "2020-10-11T05:21:49.799763Z"
    }
   },
   "outputs": [],
   "source": [
    "lstm_model=tf.keras.Sequential([\n",
    "    # Add an Embedding layer  which expects vocab size and embeding size  300\n",
    "    tf.keras.layers.Embedding(vocab_size,embedding_dim), # creates word embedddings layer\n",
    "    tf.keras.layers.LSTM(128), # units is nothing but number of hidden neurons in the lstm gates (forget,input,output)\n",
    "    tf.keras.layers.Dense(5,activation='softmax')\n",
    "    \n",
    "])"
   ]
  },
  {
   "cell_type": "code",
   "execution_count": 80,
   "metadata": {
    "ExecuteTime": {
     "end_time": "2020-10-11T05:22:02.149540Z",
     "start_time": "2020-10-11T05:22:02.143195Z"
    }
   },
   "outputs": [
    {
     "name": "stdout",
     "output_type": "stream",
     "text": [
      "Model: \"sequential\"\n",
      "_________________________________________________________________\n",
      "Layer (type)                 Output Shape              Param #   \n",
      "=================================================================\n",
      "embedding (Embedding)        (None, None, 300)         13700700  \n",
      "_________________________________________________________________\n",
      "lstm (LSTM)                  (None, 128)               219648    \n",
      "_________________________________________________________________\n",
      "dense (Dense)                (None, 5)                 645       \n",
      "=================================================================\n",
      "Total params: 13,920,993\n",
      "Trainable params: 13,920,993\n",
      "Non-trainable params: 0\n",
      "_________________________________________________________________\n"
     ]
    }
   ],
   "source": [
    "lstm_model.summary()"
   ]
  },
  {
   "cell_type": "code",
   "execution_count": 81,
   "metadata": {
    "ExecuteTime": {
     "end_time": "2020-10-11T05:23:32.362518Z",
     "start_time": "2020-10-11T05:23:32.358123Z"
    }
   },
   "outputs": [
    {
     "data": {
      "text/plain": [
       "{'petsupplies': 0, 'beauty': 1, 'games': 2, 'food': 3, 'office': 4}"
      ]
     },
     "execution_count": 81,
     "metadata": {},
     "output_type": "execute_result"
    }
   ],
   "source": [
    "category_labels"
   ]
  },
  {
   "cell_type": "code",
   "execution_count": 82,
   "metadata": {
    "ExecuteTime": {
     "end_time": "2020-10-11T05:23:50.159756Z",
     "start_time": "2020-10-11T05:23:50.155506Z"
    }
   },
   "outputs": [
    {
     "data": {
      "text/plain": [
       "(45000, 100)"
      ]
     },
     "execution_count": 82,
     "metadata": {},
     "output_type": "execute_result"
    }
   ],
   "source": [
    "train_padded.shape"
   ]
  },
  {
   "cell_type": "code",
   "execution_count": 83,
   "metadata": {
    "ExecuteTime": {
     "end_time": "2020-10-11T05:24:00.205521Z",
     "start_time": "2020-10-11T05:24:00.201747Z"
    }
   },
   "outputs": [
    {
     "data": {
      "text/plain": [
       "(5000, 100)"
      ]
     },
     "execution_count": 83,
     "metadata": {},
     "output_type": "execute_result"
    }
   ],
   "source": [
    "test_padded.shape"
   ]
  },
  {
   "cell_type": "code",
   "execution_count": 84,
   "metadata": {
    "ExecuteTime": {
     "end_time": "2020-10-11T05:24:10.003554Z",
     "start_time": "2020-10-11T05:24:09.999862Z"
    }
   },
   "outputs": [
    {
     "data": {
      "text/plain": [
       "(45000,)"
      ]
     },
     "execution_count": 84,
     "metadata": {},
     "output_type": "execute_result"
    }
   ],
   "source": [
    "y_train.shape"
   ]
  },
  {
   "cell_type": "code",
   "execution_count": 85,
   "metadata": {
    "ExecuteTime": {
     "end_time": "2020-10-11T05:24:16.878186Z",
     "start_time": "2020-10-11T05:24:16.873902Z"
    }
   },
   "outputs": [
    {
     "data": {
      "text/plain": [
       "(5000,)"
      ]
     },
     "execution_count": 85,
     "metadata": {},
     "output_type": "execute_result"
    }
   ],
   "source": [
    "y_test.shape"
   ]
  },
  {
   "cell_type": "code",
   "execution_count": null,
   "metadata": {},
   "outputs": [],
   "source": [
    "[1,0,0,0,0]\n",
    "[0,1,0,0,0]\n",
    "[]\n"
   ]
  },
  {
   "cell_type": "code",
   "execution_count": 87,
   "metadata": {
    "ExecuteTime": {
     "end_time": "2020-10-11T05:52:36.091488Z",
     "start_time": "2020-10-11T05:32:26.487110Z"
    }
   },
   "outputs": [
    {
     "name": "stdout",
     "output_type": "stream",
     "text": [
      "Epoch 1/3\n",
      "1407/1407 - 368s - loss: 0.5103 - accuracy: 0.8002 - val_loss: 0.3448 - val_accuracy: 0.8828\n",
      "Epoch 2/3\n",
      "1407/1407 - 414s - loss: 0.2044 - accuracy: 0.9342 - val_loss: 0.3420 - val_accuracy: 0.8922\n",
      "Epoch 3/3\n",
      "1407/1407 - 425s - loss: 0.1788 - accuracy: 0.9411 - val_loss: 0.3671 - val_accuracy: 0.8890\n"
     ]
    }
   ],
   "source": [
    "opt=tf.keras.optimizers.Adam(0.01)\n",
    "lstm_model.compile(loss='sparse_categorical_crossentropy',optimizer=opt,metrics=['accuracy'])\n",
    "num_epochs=3\n",
    "histoy=lstm_model.fit(train_padded,y_train,epochs=num_epochs,validation_data=(test_padded,y_test),verbose=2)"
   ]
  },
  {
   "cell_type": "code",
   "execution_count": 97,
   "metadata": {
    "ExecuteTime": {
     "end_time": "2020-10-11T05:58:24.344093Z",
     "start_time": "2020-10-11T05:58:24.291257Z"
    }
   },
   "outputs": [
    {
     "name": "stdout",
     "output_type": "stream",
     "text": [
      "[[5.2245217e-04 1.4575537e-04 1.3661661e-05 9.9931562e-01 2.4852579e-06]] food\n"
     ]
    }
   ],
   "source": [
    "txt={\"tea real delight big fan white tea one best varieties tried flavor subtle overpowering get nice peach flavor sweet yet bitter still taste light flavor smooth white tea celestial seasonings imperial white peach white tea one favorite teas see going back time time really pleasant definitely recommend especially love white tea\"}\n",
    "seq=tokenizer.texts_to_sequences(txt)\n",
    "padded=pad_sequences(seq,maxlen=max_length,padding=padding_type,truncating=trunc_type)\n",
    "pred=lstm_model.predict(padded) # output [ 5 values  for each class and label number]\n",
    "labels=list(category_labels.keys())\n",
    "\n",
    "print(pred,labels[np.argmax(pred)])\n",
    "\n",
    "\n"
   ]
  },
  {
   "cell_type": "code",
   "execution_count": 91,
   "metadata": {
    "ExecuteTime": {
     "end_time": "2020-10-11T05:56:26.924113Z",
     "start_time": "2020-10-11T05:56:26.920019Z"
    }
   },
   "outputs": [
    {
     "data": {
      "text/plain": [
       "{'petsupplies': 0, 'beauty': 1, 'games': 2, 'food': 3, 'office': 4}"
      ]
     },
     "execution_count": 91,
     "metadata": {},
     "output_type": "execute_result"
    }
   ],
   "source": [
    "category_labels"
   ]
  },
  {
   "cell_type": "code",
   "execution_count": 93,
   "metadata": {
    "ExecuteTime": {
     "end_time": "2020-10-11T05:56:54.969613Z",
     "start_time": "2020-10-11T05:56:54.965771Z"
    }
   },
   "outputs": [
    {
     "data": {
      "text/plain": [
       "0.98909444"
      ]
     },
     "execution_count": 93,
     "metadata": {},
     "output_type": "execute_result"
    }
   ],
   "source": [
    "float(9.8909444e-01)"
   ]
  },
  {
   "cell_type": "code",
   "execution_count": 94,
   "metadata": {
    "ExecuteTime": {
     "end_time": "2020-10-11T05:57:14.088642Z",
     "start_time": "2020-10-11T05:57:14.084866Z"
    }
   },
   "outputs": [
    {
     "data": {
      "text/plain": [
       "0.0080315201"
      ]
     },
     "execution_count": 94,
     "metadata": {},
     "output_type": "execute_result"
    }
   ],
   "source": [
    "float(8.0315201e-03)"
   ]
  },
  {
   "cell_type": "code",
   "execution_count": 96,
   "metadata": {
    "ExecuteTime": {
     "end_time": "2020-10-11T05:57:59.440273Z",
     "start_time": "2020-10-11T05:57:59.430507Z"
    }
   },
   "outputs": [
    {
     "data": {
      "text/html": [
       "<div>\n",
       "<style scoped>\n",
       "    .dataframe tbody tr th:only-of-type {\n",
       "        vertical-align: middle;\n",
       "    }\n",
       "\n",
       "    .dataframe tbody tr th {\n",
       "        vertical-align: top;\n",
       "    }\n",
       "\n",
       "    .dataframe thead th {\n",
       "        text-align: right;\n",
       "    }\n",
       "</style>\n",
       "<table border=\"1\" class=\"dataframe\">\n",
       "  <thead>\n",
       "    <tr style=\"text-align: right;\">\n",
       "      <th></th>\n",
       "      <th>reviewText</th>\n",
       "      <th>overall</th>\n",
       "      <th>category</th>\n",
       "      <th>cleaned_text</th>\n",
       "      <th>label</th>\n",
       "    </tr>\n",
       "  </thead>\n",
       "  <tbody>\n",
       "    <tr>\n",
       "      <th>9708</th>\n",
       "      <td>This tea was a real delight! I'm a big fan of white tea and this is one of the best varieties I have tried. The flavor is very subtle and not overpowering at all. You get a nice peach flavor that isn't too sweet yet not at all bitter, but you can still taste the light flavor of the smooth white tea. Celestial Seasonings Imperial White Peach White Tea is now one of my favorite teas and I can see myself going back to it time and time again. It is really pleasant and I definitely recommend it, especially to those who love white tea.</td>\n",
       "      <td>5.0</td>\n",
       "      <td>food</td>\n",
       "      <td>tea real delight big fan white tea one best varieties tried flavor subtle overpowering get nice peach flavor sweet yet bitter still taste light flavor smooth white tea celestial seasonings imperial white peach white tea one favorite teas see going back time time really pleasant definitely recommend especially love white tea</td>\n",
       "      <td>3</td>\n",
       "    </tr>\n",
       "  </tbody>\n",
       "</table>\n",
       "</div>"
      ],
      "text/plain": [
       "                                                                                                                                                                                                                                                                                                                                                                                                                                                                                                                                                   reviewText  \\\n",
       "9708  This tea was a real delight! I'm a big fan of white tea and this is one of the best varieties I have tried. The flavor is very subtle and not overpowering at all. You get a nice peach flavor that isn't too sweet yet not at all bitter, but you can still taste the light flavor of the smooth white tea. Celestial Seasonings Imperial White Peach White Tea is now one of my favorite teas and I can see myself going back to it time and time again. It is really pleasant and I definitely recommend it, especially to those who love white tea.   \n",
       "\n",
       "      overall category  \\\n",
       "9708  5.0      food      \n",
       "\n",
       "                                                                                                                                                                                                                                                                                                                               cleaned_text  \\\n",
       "9708  tea real delight big fan white tea one best varieties tried flavor subtle overpowering get nice peach flavor sweet yet bitter still taste light flavor smooth white tea celestial seasonings imperial white peach white tea one favorite teas see going back time time really pleasant definitely recommend especially love white tea   \n",
       "\n",
       "      label  \n",
       "9708  3      "
      ]
     },
     "execution_count": 96,
     "metadata": {},
     "output_type": "execute_result"
    }
   ],
   "source": [
    "test.sample(1)"
   ]
  },
  {
   "cell_type": "code",
   "execution_count": null,
   "metadata": {},
   "outputs": [],
   "source": [
    "bidirectional_lstm_model=tf.keras.Sequential([\n",
    "    # Add an Embedding layer  which expects vocab size and embeding size  300\n",
    "    tf.keras.layers.Embedding(vocab_size,embedding_dim), # creates word embedddings layer\n",
    "    tf.keras.layers.Bidirectional(tf.keras.layers.LSTM(128)), # units is nothing but number of hidden neurons in the lstm gates (forget,input,output)\n",
    "    tf.keras.layers.Dense(5,activation='softmax')\n",
    "    \n",
    "])"
   ]
  },
  {
   "cell_type": "code",
   "execution_count": null,
   "metadata": {},
   "outputs": [],
   "source": [
    "#model.compile\n",
    "#model.fit"
   ]
  },
  {
   "cell_type": "code",
   "execution_count": 104,
   "metadata": {
    "ExecuteTime": {
     "end_time": "2020-10-11T06:05:52.776591Z",
     "start_time": "2020-10-11T06:05:52.770709Z"
    }
   },
   "outputs": [
    {
     "name": "stdout",
     "output_type": "stream",
     "text": [
      "embedding True\n",
      "Layer Configuration:\n",
      "{'name': 'embedding', 'trainable': True, 'batch_input_shape': (None, None), 'dtype': 'float32', 'input_dim': 45669, 'output_dim': 300, 'embeddings_initializer': {'class_name': 'RandomUniform', 'config': {'minval': -0.05, 'maxval': 0.05, 'seed': None}}, 'embeddings_regularizer': None, 'activity_regularizer': None, 'embeddings_constraint': None, 'mask_zero': False, 'input_length': None}\n",
      "----------------------------------------\n",
      "lstm True\n",
      "Layer Configuration:\n",
      "{'name': 'lstm', 'trainable': True, 'dtype': 'float32', 'return_sequences': False, 'return_state': False, 'go_backwards': False, 'stateful': False, 'unroll': False, 'time_major': False, 'units': 128, 'activation': 'tanh', 'recurrent_activation': 'sigmoid', 'use_bias': True, 'kernel_initializer': {'class_name': 'GlorotUniform', 'config': {'seed': None}}, 'recurrent_initializer': {'class_name': 'Orthogonal', 'config': {'gain': 1.0, 'seed': None}}, 'bias_initializer': {'class_name': 'Zeros', 'config': {}}, 'unit_forget_bias': True, 'kernel_regularizer': None, 'recurrent_regularizer': None, 'bias_regularizer': None, 'activity_regularizer': None, 'kernel_constraint': None, 'recurrent_constraint': None, 'bias_constraint': None, 'dropout': 0.0, 'recurrent_dropout': 0.0, 'implementation': 2}\n",
      "----------------------------------------\n",
      "dense True\n",
      "Layer Configuration:\n",
      "{'name': 'dense', 'trainable': True, 'dtype': 'float32', 'units': 5, 'activation': 'softmax', 'use_bias': True, 'kernel_initializer': {'class_name': 'GlorotUniform', 'config': {'seed': None}}, 'bias_initializer': {'class_name': 'Zeros', 'config': {}}, 'kernel_regularizer': None, 'bias_regularizer': None, 'activity_regularizer': None, 'kernel_constraint': None, 'bias_constraint': None}\n",
      "----------------------------------------\n"
     ]
    }
   ],
   "source": [
    "for layer in lstm_model.layers:\n",
    "    print(layer.name, layer.trainable)\n",
    "    print('Layer Configuration:')\n",
    "    print(layer.get_config(), end='\\n{}\\n'.format('----'*10))"
   ]
  },
  {
   "cell_type": "code",
   "execution_count": 106,
   "metadata": {
    "ExecuteTime": {
     "end_time": "2020-10-11T06:07:04.120315Z",
     "start_time": "2020-10-11T06:07:04.107998Z"
    }
   },
   "outputs": [
    {
     "data": {
      "text/plain": [
       "[array([[ 0.13905868,  0.37285912, -0.20110786, ...,  0.1568514 ,\n",
       "          0.10793047,  0.04484409],\n",
       "        [-0.48659402, -0.6519449 , -0.48777258, ...,  0.5803502 ,\n",
       "          0.13639286, -0.45443347],\n",
       "        [ 0.7739898 , -1.1207192 ,  0.4257845 , ..., -0.9131516 ,\n",
       "          0.700784  , -0.04294791],\n",
       "        ...,\n",
       "        [-1.1340482 , -0.5418769 ,  0.54342717, ..., -0.32852855,\n",
       "          0.3491365 , -0.92203295],\n",
       "        [-0.60807884,  1.3037893 , -0.2972838 , ...,  0.5588997 ,\n",
       "          0.0648509 , -0.76244277],\n",
       "        [ 0.8194841 , -0.13189198, -0.651196  , ..., -0.3042167 ,\n",
       "          0.05759194, -0.0401408 ]], dtype=float32),\n",
       " array([[ 0.76355726, -0.21407458,  0.4942012 , ..., -0.8594808 ,\n",
       "         -0.05540085, -0.3863852 ],\n",
       "        [ 0.3953116 , -0.93397623,  0.70894754, ..., -1.100515  ,\n",
       "         -0.30179405,  0.07129705],\n",
       "        [ 0.9452478 , -0.23290929, -0.5580628 , ..., -0.51741505,\n",
       "         -0.9036044 ,  0.1259622 ],\n",
       "        ...,\n",
       "        [ 0.05426372, -0.0368277 ,  0.6144565 , ...,  1.5923711 ,\n",
       "          0.09182589,  0.6880232 ],\n",
       "        [ 1.2688278 ,  0.85975575, -0.5255939 , ..., -1.6227165 ,\n",
       "         -0.17560144, -0.52993613],\n",
       "        [ 0.50890714,  0.99182653,  0.95065516, ..., -0.7027175 ,\n",
       "         -1.9493788 , -0.6069306 ]], dtype=float32),\n",
       " array([-3.76744121e-01, -1.10993409e+00, -9.82798040e-01, -3.29325169e-01,\n",
       "         3.45945746e-01, -1.83094472e-01, -3.89315099e-01, -4.73006755e-01,\n",
       "        -3.64386261e-01, -1.55076873e+00, -1.79080188e+00, -5.18992767e-02,\n",
       "        -2.11721611e+00, -4.63266149e-02, -1.50793588e+00, -1.31467187e+00,\n",
       "        -8.99784625e-01, -7.81679451e-01, -1.14405239e+00, -1.49618208e+00,\n",
       "         3.01586628e-01, -5.20143449e-01, -1.56237769e+00, -4.33325022e-01,\n",
       "        -1.06550956e+00, -5.49615264e-01, -1.07198834e+00, -8.23422447e-02,\n",
       "        -5.74547350e-02, -4.50041115e-01, -4.30167526e-01, -2.15252137e+00,\n",
       "        -1.95934311e-01, -7.39849031e-01, -6.65461645e-02, -3.02768975e-01,\n",
       "        -1.83854386e-01, -1.54174483e+00, -6.42150640e-01, -8.65010738e-01,\n",
       "        -5.37633121e-01,  8.87047648e-01,  1.72388554e-01, -1.06151450e+00,\n",
       "        -1.10513222e+00, -8.97357285e-01,  4.49627399e-01, -5.51493883e-01,\n",
       "         1.38578504e-01, -2.50393057e+00, -5.48991501e-01, -5.65664731e-02,\n",
       "        -1.28334427e+00, -7.02332497e-01, -3.05693954e-01,  5.95809259e-02,\n",
       "         1.31296217e-01, -1.58211395e-01, -3.17918658e-01,  1.09739053e+00,\n",
       "         1.37884006e-01, -6.10564947e-01,  1.67163551e+00, -8.34802210e-01,\n",
       "         8.07526946e-01, -1.56762266e+00, -8.11314464e-01, -9.21554267e-01,\n",
       "        -5.17851412e-01, -2.37006783e-01,  5.48348844e-01, -9.63272452e-01,\n",
       "        -2.50640702e+00, -1.28619242e+00,  5.97938299e-01,  1.75277889e-01,\n",
       "        -5.73075831e-01, -4.66200590e-01, -7.14870870e-01,  2.91644577e-02,\n",
       "        -1.30175602e+00, -8.56480420e-01, -1.54150736e+00, -1.27241218e+00,\n",
       "         9.41492692e-02, -6.97761655e-01, -1.10441208e+00, -7.21889079e-01,\n",
       "        -1.39379656e+00, -3.41658443e-01, -6.81025028e-01, -1.74624312e+00,\n",
       "        -1.24625914e-01, -1.94073033e+00, -4.98846769e-01, -7.60314941e-01,\n",
       "        -8.66404712e-01, -1.12708673e-01, -1.09688735e+00, -6.96625173e-01,\n",
       "        -4.37688947e-01, -1.05692148e+00, -1.56552362e+00, -2.33596325e+00,\n",
       "        -1.05232382e+00,  2.06077948e-01, -5.04183292e-01,  9.68861222e-01,\n",
       "        -2.39173606e-01, -8.49058181e-02, -6.78987384e-01,  1.35089144e-01,\n",
       "        -4.34707731e-01, -3.29710782e-01, -1.11026967e+00, -3.83130640e-01,\n",
       "         2.05211356e-01, -7.09829628e-01, -6.08032048e-01, -1.96050122e-01,\n",
       "        -1.30414057e+00, -9.30447102e-01,  2.05021491e-03, -8.21598589e-01,\n",
       "        -3.85298818e-01, -1.15163445e+00, -7.66981006e-01, -6.93224296e-02,\n",
       "         2.21230373e-01,  2.07157779e+00, -2.03639612e-01,  6.61861062e-01,\n",
       "        -1.66441560e-01,  2.79705596e+00,  6.25451028e-01,  5.77997029e-01,\n",
       "         1.95511210e+00,  3.53068262e-01,  2.89206505e+00,  2.06047148e-01,\n",
       "         2.28629446e+00, -2.15910092e-01,  4.40616906e-01,  2.52378225e+00,\n",
       "         1.89427495e+00,  1.62339175e+00,  3.92333806e-01, -7.21357226e-01,\n",
       "         1.13978195e+00,  1.16525590e+00,  7.08942652e-01,  1.01511347e+00,\n",
       "         1.63917816e+00, -2.01792940e-01,  4.01179582e-01,  3.98594499e-01,\n",
       "         8.33095849e-01, -5.93343377e-01,  8.24234366e-01,  1.15194750e+00,\n",
       "         1.17488778e+00,  1.92856228e+00,  1.09551287e+00,  2.69912720e-01,\n",
       "         1.19954050e+00,  2.73622799e+00,  7.08260477e-01,  9.39814925e-01,\n",
       "         1.26556134e+00,  1.77131462e+00,  5.04056633e-01,  1.57012808e+00,\n",
       "         2.32986069e+00,  4.90179002e-01,  5.79317510e-01,  4.16145295e-01,\n",
       "         2.80170536e+00,  2.02999973e+00,  1.21449125e+00,  1.06776011e+00,\n",
       "         1.76307321e-01,  5.75069189e-01,  1.89866722e+00,  7.42274880e-01,\n",
       "         9.32635307e-01,  9.76119459e-01,  1.71702611e+00,  1.21846831e+00,\n",
       "         7.37436891e-01,  1.00814044e+00,  4.24905151e-01,  6.96990311e-01,\n",
       "         7.67982781e-01,  2.56148386e+00,  6.95341170e-01,  2.92044491e-01,\n",
       "        -1.96935937e-01,  8.34740937e-01,  3.75654757e-01,  2.22792196e+00,\n",
       "         2.74426818e+00,  1.29399288e+00,  7.03413010e-01,  1.99726284e+00,\n",
       "         9.32132602e-01,  1.75696576e+00,  4.44212705e-01,  2.05218387e+00,\n",
       "         1.86047125e+00,  2.12748945e-01,  1.13953340e+00,  5.06070316e-01,\n",
       "         1.97158957e+00,  2.87317544e-01,  2.10764170e+00,  8.16231489e-01,\n",
       "         2.61180382e-02,  1.35122669e+00,  4.46518153e-01,  4.75541176e-03,\n",
       "         1.48242211e+00,  2.37456155e+00,  1.38305235e+00,  1.75116825e+00,\n",
       "         1.46042538e+00,  8.25167000e-01,  7.81291306e-01,  2.75529599e+00,\n",
       "         2.28813386e+00,  1.21271276e+00,  7.86535263e-01,  1.96615887e+00,\n",
       "         2.64348531e+00,  1.40841413e+00,  2.26917624e+00,  7.86722839e-01,\n",
       "         2.59656578e-01,  2.51189804e+00,  8.84072363e-01,  2.17147493e+00,\n",
       "         1.24239349e+00,  1.94888711e-01,  1.03231490e+00,  2.90250540e+00,\n",
       "         1.12996709e+00,  1.53582528e-01,  1.52637815e+00,  1.70553458e+00,\n",
       "         1.51892328e+00,  1.80977988e+00,  4.30691838e-01,  2.11594081e+00,\n",
       "         1.91416013e+00,  2.01223779e+00,  1.31213272e+00,  1.59795046e+00,\n",
       "         5.71156591e-02, -6.89786002e-02, -7.22740591e-02, -6.88102245e-01,\n",
       "        -6.25024319e-01,  3.78928930e-02, -3.89576703e-01,  6.75196052e-01,\n",
       "        -1.13641918e-01,  2.94643700e-01,  1.68308280e-02,  6.93444729e-01,\n",
       "         6.98672757e-02, -3.04162413e-01, -2.59394705e-01,  1.58225864e-01,\n",
       "        -1.32272887e+00,  1.49471521e-01, -4.21105802e-01,  2.84553140e-01,\n",
       "        -2.34333485e-01,  4.99643505e-01,  4.38329488e-01,  2.37104759e-01,\n",
       "        -6.41894042e-01,  4.78740185e-01, -2.02650964e-01,  4.64624882e-01,\n",
       "        -9.79213566e-02,  7.00574875e-01,  1.24580130e-01,  2.05571532e-01,\n",
       "         1.99985430e-01,  3.68888646e-01,  4.97630358e-01, -1.60036355e-01,\n",
       "        -4.41527218e-01, -2.86644120e-02, -2.68467605e-01, -2.86990136e-01,\n",
       "         6.09153152e-01,  7.91756511e-01, -9.14512515e-01, -3.07885826e-01,\n",
       "        -2.35614881e-01, -1.13943267e+00,  1.07453930e+00,  3.60665955e-02,\n",
       "         4.19513017e-01, -4.13715124e-01,  1.35365471e-01, -6.45239174e-01,\n",
       "        -1.36977601e+00,  9.58088338e-01, -6.09379172e-01,  3.10741216e-01,\n",
       "         6.16834462e-01,  4.47524339e-01,  1.83341593e-01,  3.24420184e-01,\n",
       "        -7.28465736e-01,  1.37869731e-01,  2.40845546e-01, -4.53631610e-01,\n",
       "        -1.29400587e+00, -1.92078590e-01,  7.71876276e-01, -2.87250668e-01,\n",
       "        -7.80174136e-01, -2.47132510e-01,  1.09022534e+00, -5.75226434e-02,\n",
       "        -4.29293513e-01,  9.52449203e-01, -1.62045747e-01,  7.50868261e-01,\n",
       "        -8.66324723e-01,  2.06292346e-01, -4.43755686e-01, -6.35419488e-01,\n",
       "         2.54282951e-01, -2.70535816e-02, -8.52762282e-01, -8.56251359e-01,\n",
       "        -3.05660248e-01, -1.28127590e-01, -4.68232147e-02, -5.37501812e-01,\n",
       "        -3.27053875e-01,  2.79322952e-01, -5.35683572e-01, -4.26336974e-01,\n",
       "        -6.35618746e-01, -7.36601174e-01, -6.38808131e-01,  7.66211599e-02,\n",
       "        -3.97133857e-01,  4.63112414e-01, -2.79216319e-01, -1.01288490e-01,\n",
       "         3.45530808e-01, -3.78385885e-03,  6.79756939e-01,  1.80694222e-01,\n",
       "        -2.79558599e-02, -3.33505780e-01, -8.04522812e-01,  6.26784742e-01,\n",
       "         3.74711692e-01, -2.46257365e-01, -2.78240263e-01,  5.98491251e-01,\n",
       "         1.20477319e+00,  6.81049824e-01,  2.52685815e-01,  3.73636574e-01,\n",
       "        -4.26537842e-01,  5.45158863e-01,  2.51718611e-01, -1.77514970e-01,\n",
       "         4.87927526e-01, -4.56587046e-01, -1.59523141e+00,  9.48533118e-02,\n",
       "         2.13287041e-01,  1.20251402e-01, -5.48949420e-01, -7.63074040e-01,\n",
       "        -6.96219683e-01,  7.84684062e-01, -1.84819067e+00, -8.93321335e-01,\n",
       "         1.04244836e-01,  2.40656257e-01, -1.59680474e+00,  4.40429091e-01,\n",
       "         7.20376015e-01, -3.58022958e-01,  6.66766286e-01, -6.65773451e-01,\n",
       "         8.94793689e-01, -9.87950683e-01, -8.27340961e-01,  9.26491320e-01,\n",
       "        -6.40949428e-01,  4.22008812e-01, -1.40291393e+00, -1.64343143e+00,\n",
       "         2.84660757e-01,  9.85496283e-01, -6.26749277e-01, -4.71919894e-01,\n",
       "        -2.02246994e-01, -1.25197279e+00, -8.96011472e-01, -1.11924362e+00,\n",
       "        -4.27671820e-01, -1.28341806e+00, -5.97250521e-01, -3.00802708e-01,\n",
       "        -2.07305640e-01, -6.84231460e-01, -9.63587761e-01, -8.18877220e-01,\n",
       "        -9.41444337e-01,  1.39814270e+00, -6.14965618e-01, -6.94907963e-01,\n",
       "         6.29933298e-01,  1.36537746e-01, -4.14128125e-01,  1.25410199e-01,\n",
       "         7.06485391e-01, -2.98176497e-01, -7.49131814e-02, -9.41077098e-02,\n",
       "        -8.19449648e-02,  3.09295058e-01, -6.60964906e-01,  1.13412134e-01,\n",
       "        -1.35537517e+00, -8.62455964e-02,  9.42191303e-01, -6.28913343e-01,\n",
       "        -3.19432229e-01, -1.65181413e-01, -6.71039104e-01, -5.09752631e-01,\n",
       "        -3.87177438e-01,  2.25023963e-02,  3.39734972e-01, -4.39087063e-01,\n",
       "        -5.00033721e-02,  5.02556622e-01, -1.04868978e-01, -1.19107544e-01,\n",
       "        -4.68401581e-01,  1.85158998e-01, -8.75407398e-01,  1.71488166e-01,\n",
       "         7.93086231e-01,  1.54012895e+00, -1.05716300e+00,  7.63296664e-01,\n",
       "        -7.09651530e-01, -9.17559341e-02,  7.73177817e-02, -3.23034227e-01,\n",
       "         3.74334604e-02,  2.32021317e-01, -8.57915103e-01, -8.79163265e-01,\n",
       "        -1.33139384e+00, -1.13484812e+00,  1.48602296e-02,  1.05171159e-01,\n",
       "         2.66423821e-01,  4.18829948e-01, -5.54517508e-01, -7.85969853e-01,\n",
       "        -1.79343128e+00,  8.50097477e-01,  2.30929121e-01, -8.03054869e-01,\n",
       "         2.65587866e-01,  2.94092417e-01, -1.10177672e+00,  9.52696919e-01,\n",
       "         1.04317856e+00,  4.15594220e-01, -5.96143782e-01,  8.02691206e-02,\n",
       "         1.98320433e-01, -2.54799813e-01,  5.97429693e-01, -8.94944966e-01,\n",
       "        -4.56193715e-01,  1.03376913e+00, -2.91367054e-01,  1.72411829e-01,\n",
       "         1.99566513e-01, -1.74700963e+00, -4.87572879e-01,  2.94737108e-02,\n",
       "        -1.90899158e+00, -1.47737801e-01,  1.66537255e-01, -8.59641671e-01,\n",
       "        -5.45653999e-01, -5.82785830e-02,  1.49306163e-01,  9.61660683e-01,\n",
       "         4.52425689e-01,  6.68588161e-01,  1.10556877e+00,  8.37277353e-01],\n",
       "       dtype=float32)]"
      ]
     },
     "execution_count": 106,
     "metadata": {},
     "output_type": "execute_result"
    }
   ],
   "source": [
    "lstm_model.layers[1].get_weights()"
   ]
  },
  {
   "cell_type": "code",
   "execution_count": null,
   "metadata": {},
   "outputs": [],
   "source": []
  }
 ],
 "metadata": {
  "hide_input": false,
  "kernelspec": {
   "display_name": "Python 3",
   "language": "python",
   "name": "python3"
  },
  "language_info": {
   "codemirror_mode": {
    "name": "ipython",
    "version": 3
   },
   "file_extension": ".py",
   "mimetype": "text/x-python",
   "name": "python",
   "nbconvert_exporter": "python",
   "pygments_lexer": "ipython3",
   "version": "3.7.6"
  }
 },
 "nbformat": 4,
 "nbformat_minor": 4
}
